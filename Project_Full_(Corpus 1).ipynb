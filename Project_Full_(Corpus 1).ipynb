{
  "nbformat": 4,
  "nbformat_minor": 0,
  "metadata": {
    "colab": {
      "name": "Project: Full",
      "provenance": [],
      "collapsed_sections": [],
      "toc_visible": true
    },
    "kernelspec": {
      "name": "python3",
      "display_name": "Python 3"
    }
  },
  "cells": [
    {
      "cell_type": "markdown",
      "metadata": {
        "id": "D5o2Kt1bzbM1",
        "colab_type": "text"
      },
      "source": [
        "# Extract abstract and corpus\n",
        "Defined variables:\n",
        "* site: url link to site\n",
        "\n",
        "Output variables:\n",
        "* original_abstract: abstract sentence list\n",
        "* original_corpus: corpus sentence list\n",
        "* clean_abstract: remove stopwords, lowercased, punctuation, etc. cleaned sentence list of abstract\n",
        "* clean_corpus: cleaned corpus, list of sentences\n",
        "\n",
        "Note: original and cleaned versions should have same length, for consistency.\n",
        "Note each sentence is itself list of words."
      ]
    },
    {
      "cell_type": "markdown",
      "metadata": {
        "id": "vFbjnn9trK50",
        "colab_type": "text"
      },
      "source": [
        "NOTE: run sci-spacy and pip installs first, which require runtime restarting, and may override glove etc. imports"
      ]
    },
    {
      "cell_type": "code",
      "metadata": {
        "id": "0Lpkx1pT-ABy",
        "colab_type": "code",
        "colab": {}
      },
      "source": [
        "import numpy as np\n",
        "import pandas as pd\n",
        "import re"
      ],
      "execution_count": 0,
      "outputs": []
    },
    {
      "cell_type": "code",
      "metadata": {
        "id": "bUnBya6x-N5E",
        "colab_type": "code",
        "outputId": "90c3395d-3733-4bb0-ab68-b2d3b7f87bf4",
        "colab": {
          "base_uri": "https://localhost:8080/",
          "height": 85
        }
      },
      "source": [
        "import nltk\n",
        "nltk.download('punkt')\n",
        "nltk.download('stopwords')\n",
        "from nltk.corpus import stopwords\n",
        "stop_words = stopwords.words('english')"
      ],
      "execution_count": 0,
      "outputs": [
        {
          "output_type": "stream",
          "text": [
            "[nltk_data] Downloading package punkt to /root/nltk_data...\n",
            "[nltk_data]   Package punkt is already up-to-date!\n",
            "[nltk_data] Downloading package stopwords to /root/nltk_data...\n",
            "[nltk_data]   Package stopwords is already up-to-date!\n"
          ],
          "name": "stdout"
        }
      ]
    },
    {
      "cell_type": "code",
      "metadata": {
        "id": "FxiI_SU5_aGI",
        "colab_type": "code",
        "colab": {}
      },
      "source": [
        "def read_file(filename):\n",
        "  \"\"\"\n",
        "  Obtains original text in filename, in sentence list form.\n",
        "  \"\"\"\n",
        "  reader = open(filename)\n",
        "  text = ''\n",
        "  for line in reader:\n",
        "    text += line + '\\n'\n",
        "\n",
        "  #obtain a sentence list of the original text (abstract or corpus)\n",
        "  original_text = text.strip().split('.')\n",
        "  return original_text"
      ],
      "execution_count": 0,
      "outputs": []
    },
    {
      "cell_type": "code",
      "metadata": {
        "id": "NjVLsGkU5aG6",
        "colab_type": "code",
        "colab": {}
      },
      "source": [
        "def clean_text(original_text, sentence_length_cutoff=5):\n",
        "  \"\"\"\n",
        "  obtain a clean sentence list of original_text\n",
        "  no punctuation, lowercase, no stop words, and no short sentences\n",
        "  \"\"\"\n",
        "  clean_text = []\n",
        "  for sentence in original_text:\n",
        "    sentence = sentence.lower()\n",
        "    sentence = re.sub(\"[^a-zA-Z0-9.]\", \" \", sentence)\n",
        "    sentence = sentence.split()\n",
        "    sentence_no_stopwords = [word for word in sentence if word not in stop_words]\n",
        "    if len(sentence_no_stopwords) < sentence_length_cutoff:\n",
        "      sentence_no_stopwords = [] #treat it as an empty sentence.\n",
        "      #we still need something there for a placeholder, for indexing.\n",
        "    clean_text.append(sentence_no_stopwords)\n",
        "  return clean_text\n"
      ],
      "execution_count": 0,
      "outputs": []
    },
    {
      "cell_type": "code",
      "metadata": {
        "id": "45Ivc23T-9mn",
        "colab_type": "code",
        "colab": {}
      },
      "source": [
        "#note the length is the same between original versus cleaned.\n",
        "original_abstract = read_file('abstract_1.txt')\n",
        "clean_abstract = clean_text(original_abstract)"
      ],
      "execution_count": 0,
      "outputs": []
    },
    {
      "cell_type": "code",
      "metadata": {
        "id": "uv49Pnp_A4Yh",
        "colab_type": "code",
        "colab": {}
      },
      "source": [
        "original_corpus = read_file('corpus_1.txt')\n",
        "clean_corpus = clean_text(original_corpus)"
      ],
      "execution_count": 0,
      "outputs": []
    },
    {
      "cell_type": "markdown",
      "metadata": {
        "id": "6ksb6qsozgKJ",
        "colab_type": "text"
      },
      "source": [
        "# Apply GloVe to a corpus\n",
        "Defined variables:\n",
        "* clean_corpus\n",
        "\n",
        "Output variables:\n",
        "* glove_summary, a list of (score, original sentence, clean sentence, index) sorted highest to lowest score\n",
        "\n",
        "Note: we can use index to find corresponding clean_corpus sentences if desired."
      ]
    },
    {
      "cell_type": "code",
      "metadata": {
        "id": "vCO2YGviBods",
        "colab_type": "code",
        "outputId": "98fd18b0-40ae-4311-e5ea-6f1ee68f0047",
        "colab": {
          "base_uri": "https://localhost:8080/",
          "height": 411
        }
      },
      "source": [
        "# download GloVe\n",
        "!wget http://nlp.stanford.edu/data/glove.6B.zip\n",
        "!unzip glove*.zip"
      ],
      "execution_count": 0,
      "outputs": [
        {
          "output_type": "stream",
          "text": [
            "--2020-04-26 01:33:33--  http://nlp.stanford.edu/data/glove.6B.zip\n",
            "Resolving nlp.stanford.edu (nlp.stanford.edu)... 171.64.67.140\n",
            "Connecting to nlp.stanford.edu (nlp.stanford.edu)|171.64.67.140|:80... connected.\n",
            "HTTP request sent, awaiting response... 302 Found\n",
            "Location: https://nlp.stanford.edu/data/glove.6B.zip [following]\n",
            "--2020-04-26 01:33:33--  https://nlp.stanford.edu/data/glove.6B.zip\n",
            "Connecting to nlp.stanford.edu (nlp.stanford.edu)|171.64.67.140|:443... connected.\n",
            "HTTP request sent, awaiting response... 301 Moved Permanently\n",
            "Location: http://downloads.cs.stanford.edu/nlp/data/glove.6B.zip [following]\n",
            "--2020-04-26 01:33:33--  http://downloads.cs.stanford.edu/nlp/data/glove.6B.zip\n",
            "Resolving downloads.cs.stanford.edu (downloads.cs.stanford.edu)... 171.64.64.22\n",
            "Connecting to downloads.cs.stanford.edu (downloads.cs.stanford.edu)|171.64.64.22|:80... connected.\n",
            "HTTP request sent, awaiting response... 200 OK\n",
            "Length: 862182613 (822M) [application/zip]\n",
            "Saving to: ‘glove.6B.zip.1’\n",
            "\n",
            "glove.6B.zip.1      100%[===================>] 822.24M  2.02MB/s    in 6m 28s  \n",
            "\n",
            "2020-04-26 01:40:01 (2.12 MB/s) - ‘glove.6B.zip.1’ saved [862182613/862182613]\n",
            "\n",
            "Archive:  glove.6B.zip\n",
            "replace glove.6B.50d.txt? [y]es, [n]o, [A]ll, [N]one, [r]ename: N\n"
          ],
          "name": "stdout"
        }
      ]
    },
    {
      "cell_type": "code",
      "metadata": {
        "id": "zU-AK2c-CURN",
        "colab_type": "code",
        "colab": {}
      },
      "source": [
        "# store a dictionary of word to corresponding GloVe vector\n",
        "word_to_vec = {}\n",
        "f = open('glove.6B.100d.txt', encoding='utf-8')\n",
        "for line in f:\n",
        "    values = line.split()\n",
        "    word = values[0]\n",
        "    coefs = np.asarray(values[1:], dtype='float32')\n",
        "    word_to_vec[word] = coefs\n",
        "f.close()"
      ],
      "execution_count": 0,
      "outputs": []
    },
    {
      "cell_type": "markdown",
      "metadata": {
        "id": "EIFH6j93Bg0J",
        "colab_type": "text"
      },
      "source": [
        "## Vectorize corpus\n",
        "Output\n",
        "* vec_corpus, list of vectors. 1 vector for each sentence."
      ]
    },
    {
      "cell_type": "code",
      "metadata": {
        "id": "dpKd9aOGBuwn",
        "colab_type": "code",
        "colab": {}
      },
      "source": [
        "def vectorize_word(w):\n",
        "  \"\"\"\n",
        "  Returns the 100-dimension GloVe vector for a word, or zero vector if not found.\n",
        "  \"\"\"\n",
        "  return word_to_vec.get(w, np.zeros((100,)))"
      ],
      "execution_count": 0,
      "outputs": []
    },
    {
      "cell_type": "code",
      "metadata": {
        "id": "WKP9D666B_YM",
        "colab_type": "code",
        "colab": {}
      },
      "source": [
        "def vectorize_summary(clean_sentence_list):\n",
        "  \"\"\"\n",
        "  Returns a list of vectors, where each vector represents the vector of a sentence.\n",
        "  The vector of each sentence is the mean of the vectors of the words in the sentence.\n",
        "  \"\"\"\n",
        "  vec_sentences = []\n",
        "  for sentence in clean_sentence_list:\n",
        "    vec_sentences.append(np.mean(\n",
        "        np.array([vectorize_word(w) for w in sentence])\n",
        "        , axis=0))\n",
        "  return vec_sentences"
      ],
      "execution_count": 0,
      "outputs": []
    },
    {
      "cell_type": "code",
      "metadata": {
        "id": "Fd7fFIVAC-T2",
        "colab_type": "code",
        "outputId": "c57a1b40-87ca-4bf1-f861-a9e9bef82844",
        "colab": {
          "base_uri": "https://localhost:8080/",
          "height": 105
        }
      },
      "source": [
        "vec_glove_corpus = vectorize_summary(clean_corpus)"
      ],
      "execution_count": 0,
      "outputs": [
        {
          "output_type": "stream",
          "text": [
            "/usr/local/lib/python3.6/dist-packages/numpy/core/fromnumeric.py:3335: RuntimeWarning: Mean of empty slice.\n",
            "  out=out, **kwargs)\n",
            "/usr/local/lib/python3.6/dist-packages/numpy/core/_methods.py:161: RuntimeWarning: invalid value encountered in double_scalars\n",
            "  ret = ret.dtype.type(ret / rcount)\n"
          ],
          "name": "stderr"
        }
      ]
    },
    {
      "cell_type": "markdown",
      "metadata": {
        "id": "qBC94bSBC6ED",
        "colab_type": "text"
      },
      "source": [
        "# Obtain Similarity Matrix\n",
        "Input\n",
        "* vec_glove_corpus or vec_cui_corpus\n",
        "\n",
        "Output\n",
        "* matrix_glove_corpus or matrix_cui_corpus: similarity matrix of vec_glove_corpus"
      ]
    },
    {
      "cell_type": "code",
      "metadata": {
        "id": "FI8n1AeyDHfB",
        "colab_type": "code",
        "colab": {}
      },
      "source": [
        "from sklearn.metrics.pairwise import cosine_similarity"
      ],
      "execution_count": 0,
      "outputs": []
    },
    {
      "cell_type": "code",
      "metadata": {
        "id": "ZUZHxZCRC7mX",
        "colab_type": "code",
        "colab": {}
      },
      "source": [
        "def get_sim_matrix(vec_sentences, vec_length):\n",
        "  \"\"\"\n",
        "  vec_length is 100 for gloVe, and 500 for Cui2vec\n",
        "  \"\"\"\n",
        "  similarity_matrix = np.zeros(\n",
        "      [len(vec_sentences), len(vec_sentences)], dtype=float)\n",
        "  #two perpendicular vectors have 0 similarity, because cosine of 90 is 0.\n",
        "\n",
        "  for i in range(len(vec_sentences)):\n",
        "    for j in range(len(vec_sentences)):\n",
        "      if i != j:\n",
        "          if np.isnan(np.sum(vec_sentences[i])) or np.isnan(np.sum(vec_sentences[j])):\n",
        "            similarity_matrix[i][j] = 0\n",
        "            #one of them is nan\n",
        "          else:\n",
        "            similarity_matrix[i][j] = cosine_similarity(\n",
        "                vec_sentences[i].reshape(1,vec_length), # because 100 dimension GloVe vector\n",
        "                vec_sentences[j].reshape(1,vec_length))[0,0]\n",
        "  return similarity_matrix"
      ],
      "execution_count": 0,
      "outputs": []
    },
    {
      "cell_type": "code",
      "metadata": {
        "id": "Sb0W3GMzDlVx",
        "colab_type": "code",
        "colab": {}
      },
      "source": [
        "matrix_glove_corpus = get_sim_matrix(vec_glove_corpus, 100)"
      ],
      "execution_count": 0,
      "outputs": []
    },
    {
      "cell_type": "markdown",
      "metadata": {
        "id": "chFtk272CuEj",
        "colab_type": "text"
      },
      "source": [
        "# Perform TextRank\n",
        "Input:\n",
        "* matrix_glove_corpus, or matrix_cui_corpus\n",
        "* original_corpus\n",
        "* clean_corpus\n",
        "\n",
        "Output:\n",
        "* glove_summary, or cui_summary"
      ]
    },
    {
      "cell_type": "code",
      "metadata": {
        "id": "gVrZ9TQHCxk6",
        "colab_type": "code",
        "colab": {}
      },
      "source": [
        "import networkx as nx"
      ],
      "execution_count": 0,
      "outputs": []
    },
    {
      "cell_type": "code",
      "metadata": {
        "id": "Jrs70NCHD3-F",
        "colab_type": "code",
        "colab": {}
      },
      "source": [
        "def textrank(sim_matrix, original_text, clean_text, top_n=5):\n",
        "  \"\"\"\n",
        "  Get the top_n sentences via textrank on the sim_matrix\n",
        "  select corresponding text from original_text (uncleaned sentence list)\n",
        "  \"\"\"\n",
        "  graph = nx.from_numpy_array(sim_matrix)\n",
        "  scores = nx.pagerank(graph) #each of the sentences, and corresponding score\n",
        "\n",
        "  ranked_sentences = sorted((\n",
        "      (scores[i],orig_sentence, clean_text[i], i) for i,orig_sentence in enumerate(original_text)), \n",
        "      reverse=True)\n",
        "  print(\"Summary:\")\n",
        "  for i in range(top_n):\n",
        "    print (ranked_sentences[i][1].strip()) #just print the sentence for viewing\n",
        "    #some original sentences still had \\n attached, so strip\n",
        "  return ranked_sentences\n"
      ],
      "execution_count": 0,
      "outputs": []
    },
    {
      "cell_type": "code",
      "metadata": {
        "id": "cW0V2zhKHRVO",
        "colab_type": "code",
        "colab": {}
      },
      "source": [
        "top_n = 5#len(original_abstract) #or 5"
      ],
      "execution_count": 0,
      "outputs": []
    },
    {
      "cell_type": "code",
      "metadata": {
        "id": "WVtZH-cBEwYD",
        "colab_type": "code",
        "outputId": "1caccd88-4329-48fa-b373-fb9c2a033e7f",
        "colab": {
          "base_uri": "https://localhost:8080/",
          "height": 139
        }
      },
      "source": [
        "glove_summary = textrank(matrix_glove_corpus, original_corpus, clean_corpus, top_n=top_n)"
      ],
      "execution_count": 0,
      "outputs": [
        {
          "output_type": "stream",
          "text": [
            "Summary:\n",
            "Bacterial strains for the positive and negative controls were fixed as described elsewhere [30] and were included in each FISH experiment to control the probe specificity and sensitivity\n",
            "urinae described in this paper, we now have at our disposal a test system for further research and diagnostics for culture-negative heart valves that enables rapid and specific species identification and targeted antibiotic therapy\n",
            "The direct detection of microorganisms in valve specimens by FISH enables the simultaneous visualization and identification of the causative agent in situ, also in culture-negative cases [5]\n",
            "Reasons for culture-negative results may include biofilm growth, previous antibiotic treatment and/or rare or slow-growing bacterial species that are missed by routine culture methods\n",
            "We analyzed heart valve samples from two IE patients in whom routine culture methods did not immediately correctly identify the key causative pathogen\n"
          ],
          "name": "stdout"
        }
      ]
    },
    {
      "cell_type": "code",
      "metadata": {
        "id": "4hpKQCD_nRiy",
        "colab_type": "code",
        "colab": {}
      },
      "source": [
        ""
      ],
      "execution_count": 0,
      "outputs": []
    },
    {
      "cell_type": "markdown",
      "metadata": {
        "id": "w0y7zzotzlDN",
        "colab_type": "text"
      },
      "source": [
        "# Apply Cui2Vec to a Corpus\n",
        "\n",
        "Defined variables:\n",
        "* clean_corpus\n",
        "\n",
        "Output variables:\n",
        "* cui_summary"
      ]
    },
    {
      "cell_type": "markdown",
      "metadata": {
        "id": "VAvAfB7yvSf3",
        "colab_type": "text"
      },
      "source": [
        "## Install scispacy"
      ]
    },
    {
      "cell_type": "code",
      "metadata": {
        "id": "Pyg8VW-wzwOW",
        "colab_type": "code",
        "outputId": "9d72041f-59ed-4621-e4e3-0a1583ee1d33",
        "colab": {
          "base_uri": "https://localhost:8080/",
          "height": 1000
        }
      },
      "source": [
        "!pip install scispacy"
      ],
      "execution_count": 0,
      "outputs": [
        {
          "output_type": "stream",
          "text": [
            "Collecting scispacy\n",
            "  Downloading https://files.pythonhosted.org/packages/eb/50/95cd574c3ccf4a268b334ea3c4c3cf9f95d1f24d6c0be82024d51c3e460b/scispacy-0.2.4.tar.gz\n",
            "Requirement already satisfied: spacy>=2.2.1 in /usr/local/lib/python3.6/dist-packages (from scispacy) (2.2.4)\n",
            "Collecting awscli\n",
            "\u001b[?25l  Downloading https://files.pythonhosted.org/packages/55/8c/24e2adbc29c3080b71a15961863057a673b14f723eb619ac12a3100f48d4/awscli-1.18.46-py2.py3-none-any.whl (3.0MB)\n",
            "\u001b[K     |████████████████████████████████| 3.0MB 4.5MB/s \n",
            "\u001b[?25hCollecting conllu\n",
            "  Downloading https://files.pythonhosted.org/packages/a8/03/4a952eb39cdc8da80a6a2416252e71784dda6bf9d726ab98065fff2aeb73/conllu-2.3.2-py2.py3-none-any.whl\n",
            "Requirement already satisfied: numpy in /usr/local/lib/python3.6/dist-packages (from scispacy) (1.18.3)\n",
            "Requirement already satisfied: joblib in /usr/local/lib/python3.6/dist-packages (from scispacy) (0.14.1)\n",
            "Collecting nmslib>=1.7.3.6\n",
            "\u001b[?25l  Downloading https://files.pythonhosted.org/packages/d5/fd/7d7428d29f12be5d1cc6d586d425b795cc9c596ae669593fd4f388602010/nmslib-2.0.6-cp36-cp36m-manylinux2010_x86_64.whl (12.9MB)\n",
            "\u001b[K     |████████████████████████████████| 13.0MB 324kB/s \n",
            "\u001b[?25hRequirement already satisfied: scikit-learn>=0.20.3 in /usr/local/lib/python3.6/dist-packages (from scispacy) (0.22.2.post1)\n",
            "Collecting pysbd\n",
            "  Downloading https://files.pythonhosted.org/packages/3b/49/4799b3cdf80aee5fa4562a3929eda738845900bbeef4ee60481196ad4d1a/pysbd-0.2.3-py3-none-any.whl\n",
            "Requirement already satisfied: cymem<2.1.0,>=2.0.2 in /usr/local/lib/python3.6/dist-packages (from spacy>=2.2.1->scispacy) (2.0.3)\n",
            "Requirement already satisfied: setuptools in /usr/local/lib/python3.6/dist-packages (from spacy>=2.2.1->scispacy) (46.1.3)\n",
            "Requirement already satisfied: requests<3.0.0,>=2.13.0 in /usr/local/lib/python3.6/dist-packages (from spacy>=2.2.1->scispacy) (2.21.0)\n",
            "Requirement already satisfied: blis<0.5.0,>=0.4.0 in /usr/local/lib/python3.6/dist-packages (from spacy>=2.2.1->scispacy) (0.4.1)\n",
            "Requirement already satisfied: preshed<3.1.0,>=3.0.2 in /usr/local/lib/python3.6/dist-packages (from spacy>=2.2.1->scispacy) (3.0.2)\n",
            "Requirement already satisfied: tqdm<5.0.0,>=4.38.0 in /usr/local/lib/python3.6/dist-packages (from spacy>=2.2.1->scispacy) (4.38.0)\n",
            "Requirement already satisfied: wasabi<1.1.0,>=0.4.0 in /usr/local/lib/python3.6/dist-packages (from spacy>=2.2.1->scispacy) (0.6.0)\n",
            "Requirement already satisfied: plac<1.2.0,>=0.9.6 in /usr/local/lib/python3.6/dist-packages (from spacy>=2.2.1->scispacy) (1.1.3)\n",
            "Requirement already satisfied: srsly<1.1.0,>=1.0.2 in /usr/local/lib/python3.6/dist-packages (from spacy>=2.2.1->scispacy) (1.0.2)\n",
            "Requirement already satisfied: catalogue<1.1.0,>=0.0.7 in /usr/local/lib/python3.6/dist-packages (from spacy>=2.2.1->scispacy) (1.0.0)\n",
            "Requirement already satisfied: murmurhash<1.1.0,>=0.28.0 in /usr/local/lib/python3.6/dist-packages (from spacy>=2.2.1->scispacy) (1.0.2)\n",
            "Requirement already satisfied: thinc==7.4.0 in /usr/local/lib/python3.6/dist-packages (from spacy>=2.2.1->scispacy) (7.4.0)\n",
            "Collecting colorama<0.4.4,>=0.2.5; python_version != \"3.4\"\n",
            "  Downloading https://files.pythonhosted.org/packages/c9/dc/45cdef1b4d119eb96316b3117e6d5708a08029992b2fee2c143c7a0a5cc5/colorama-0.4.3-py2.py3-none-any.whl\n",
            "Requirement already satisfied: s3transfer<0.4.0,>=0.3.0 in /usr/local/lib/python3.6/dist-packages (from awscli->scispacy) (0.3.3)\n",
            "Collecting botocore==1.15.46\n",
            "\u001b[?25l  Downloading https://files.pythonhosted.org/packages/6c/21/d015b86c8fa291f78e8fe7d7cf0a60645989efa5db5e8302e2b7ccf9539a/botocore-1.15.46-py2.py3-none-any.whl (6.1MB)\n",
            "\u001b[K     |████████████████████████████████| 6.1MB 45.3MB/s \n",
            "\u001b[?25hRequirement already satisfied: docutils<0.16,>=0.10 in /usr/local/lib/python3.6/dist-packages (from awscli->scispacy) (0.15.2)\n",
            "Collecting rsa<=3.5.0,>=3.1.2\n",
            "\u001b[?25l  Downloading https://files.pythonhosted.org/packages/e1/ae/baedc9cb175552e95f3395c43055a6a5e125ae4d48a1d7a924baca83e92e/rsa-3.4.2-py2.py3-none-any.whl (46kB)\n",
            "\u001b[K     |████████████████████████████████| 51kB 6.4MB/s \n",
            "\u001b[?25hRequirement already satisfied: PyYAML<5.4,>=3.10; python_version != \"3.4\" in /usr/local/lib/python3.6/dist-packages (from awscli->scispacy) (3.13)\n",
            "Collecting pybind11>=2.2.3\n",
            "\u001b[?25l  Downloading https://files.pythonhosted.org/packages/89/e3/d576f6f02bc75bacbc3d42494e8f1d063c95617d86648dba243c2cb3963e/pybind11-2.5.0-py2.py3-none-any.whl (296kB)\n",
            "\u001b[K     |████████████████████████████████| 296kB 50.5MB/s \n",
            "\u001b[?25hRequirement already satisfied: psutil in /usr/local/lib/python3.6/dist-packages (from nmslib>=1.7.3.6->scispacy) (5.4.8)\n",
            "Requirement already satisfied: scipy>=0.17.0 in /usr/local/lib/python3.6/dist-packages (from scikit-learn>=0.20.3->scispacy) (1.4.1)\n",
            "Requirement already satisfied: urllib3<1.25,>=1.21.1 in /usr/local/lib/python3.6/dist-packages (from requests<3.0.0,>=2.13.0->spacy>=2.2.1->scispacy) (1.24.3)\n",
            "Requirement already satisfied: chardet<3.1.0,>=3.0.2 in /usr/local/lib/python3.6/dist-packages (from requests<3.0.0,>=2.13.0->spacy>=2.2.1->scispacy) (3.0.4)\n",
            "Requirement already satisfied: certifi>=2017.4.17 in /usr/local/lib/python3.6/dist-packages (from requests<3.0.0,>=2.13.0->spacy>=2.2.1->scispacy) (2020.4.5.1)\n",
            "Requirement already satisfied: idna<2.9,>=2.5 in /usr/local/lib/python3.6/dist-packages (from requests<3.0.0,>=2.13.0->spacy>=2.2.1->scispacy) (2.8)\n",
            "Requirement already satisfied: importlib-metadata>=0.20; python_version < \"3.8\" in /usr/local/lib/python3.6/dist-packages (from catalogue<1.1.0,>=0.0.7->spacy>=2.2.1->scispacy) (1.6.0)\n",
            "Requirement already satisfied: python-dateutil<3.0.0,>=2.1 in /usr/local/lib/python3.6/dist-packages (from botocore==1.15.46->awscli->scispacy) (2.8.1)\n",
            "Requirement already satisfied: jmespath<1.0.0,>=0.7.1 in /usr/local/lib/python3.6/dist-packages (from botocore==1.15.46->awscli->scispacy) (0.9.5)\n",
            "Requirement already satisfied: pyasn1>=0.1.3 in /usr/local/lib/python3.6/dist-packages (from rsa<=3.5.0,>=3.1.2->awscli->scispacy) (0.4.8)\n",
            "Requirement already satisfied: zipp>=0.5 in /usr/local/lib/python3.6/dist-packages (from importlib-metadata>=0.20; python_version < \"3.8\"->catalogue<1.1.0,>=0.0.7->spacy>=2.2.1->scispacy) (3.1.0)\n",
            "Requirement already satisfied: six>=1.5 in /usr/local/lib/python3.6/dist-packages (from python-dateutil<3.0.0,>=2.1->botocore==1.15.46->awscli->scispacy) (1.12.0)\n",
            "Building wheels for collected packages: scispacy\n",
            "  Building wheel for scispacy (setup.py) ... \u001b[?25l\u001b[?25hdone\n",
            "  Created wheel for scispacy: filename=scispacy-0.2.4-cp36-none-any.whl size=35204 sha256=8c719ea1242c474d0974f494283068bb875ad1dc86fdf33d3bc5dd8ba6bc29cb\n",
            "  Stored in directory: /root/.cache/pip/wheels/36/5e/7c/ba8d6b02f5cfa40735e40ccffd29852ca19ebca59393afd5f0\n",
            "Successfully built scispacy\n",
            "Installing collected packages: colorama, botocore, rsa, awscli, conllu, pybind11, nmslib, pysbd, scispacy\n",
            "  Found existing installation: botocore 1.15.43\n",
            "    Uninstalling botocore-1.15.43:\n",
            "      Successfully uninstalled botocore-1.15.43\n",
            "  Found existing installation: rsa 4.0\n",
            "    Uninstalling rsa-4.0:\n",
            "      Successfully uninstalled rsa-4.0\n",
            "Successfully installed awscli-1.18.46 botocore-1.15.46 colorama-0.4.3 conllu-2.3.2 nmslib-2.0.6 pybind11-2.5.0 pysbd-0.2.3 rsa-3.4.2 scispacy-0.2.4\n"
          ],
          "name": "stdout"
        },
        {
          "output_type": "display_data",
          "data": {
            "application/vnd.colab-display-data+json": {
              "pip_warning": {
                "packages": [
                  "rsa"
                ]
              }
            }
          },
          "metadata": {
            "tags": []
          }
        }
      ]
    },
    {
      "cell_type": "code",
      "metadata": {
        "id": "NcjIqL2qq-5z",
        "colab_type": "code",
        "colab": {}
      },
      "source": [
        "!pip install https://s3-us-west-2.amazonaws.com/ai2-s2-scispacy/releases/v0.2.4/en_core_sci_sm-0.2.4.tar.gz"
      ],
      "execution_count": 0,
      "outputs": []
    },
    {
      "cell_type": "code",
      "metadata": {
        "id": "PPJ7xthGrE50",
        "colab_type": "code",
        "colab": {}
      },
      "source": [
        "!pip install -U spacy"
      ],
      "execution_count": 0,
      "outputs": []
    },
    {
      "cell_type": "code",
      "metadata": {
        "id": "0WJsA8PfrFxE",
        "colab_type": "code",
        "colab": {}
      },
      "source": [
        "import spacy\n",
        "import scispacy\n",
        "import en_core_sci_sm   #The model we are going to use\n",
        "from spacy import displacy\n",
        "from scispacy.abbreviation import AbbreviationDetector\n",
        "from scispacy.umls_linking import UmlsEntityLinker"
      ],
      "execution_count": 0,
      "outputs": []
    },
    {
      "cell_type": "code",
      "metadata": {
        "id": "tFSNFQ-ZrTko",
        "colab_type": "code",
        "colab": {}
      },
      "source": [
        "nlp_reader = en_core_sci_sm.load()\n",
        "cui_linker = UmlsEntityLinker(resolve_abbreviations=True)\n",
        "nlp_reader.add_pipe(cui_linker) # Each entity is linked to UMLS with a score# (currently just char-3gram matching)."
      ],
      "execution_count": 0,
      "outputs": []
    },
    {
      "cell_type": "markdown",
      "metadata": {
        "id": "w9lB9Ae0rg6e",
        "colab_type": "text"
      },
      "source": [
        "## Load cui2vec"
      ]
    },
    {
      "cell_type": "code",
      "metadata": {
        "id": "YxkH4dPUriNv",
        "colab_type": "code",
        "colab": {}
      },
      "source": [
        "!wget https://ndownloader.figshare.com/files/10959626?private_link=00d69861786cd0156d81 -O cui2vec_pretrained.csv.zip"
      ],
      "execution_count": 0,
      "outputs": []
    },
    {
      "cell_type": "code",
      "metadata": {
        "id": "D5mJsK-Yrjp0",
        "colab_type": "code",
        "outputId": "e111812e-3f3b-4a45-e699-09d142babc1b",
        "colab": {
          "base_uri": "https://localhost:8080/",
          "height": 85
        }
      },
      "source": [
        "!unzip cui2vec_pretrained.csv.zip #or try taking out the .zip"
      ],
      "execution_count": 0,
      "outputs": [
        {
          "output_type": "stream",
          "text": [
            "Archive:  cui2vec_pretrained.csv.zip\n",
            "  inflating: cui2vec_pretrained.csv  \n",
            "   creating: __MACOSX/\n",
            "  inflating: __MACOSX/._cui2vec_pretrained.csv  \n"
          ],
          "name": "stdout"
        }
      ]
    },
    {
      "cell_type": "code",
      "metadata": {
        "id": "VJ1v9ivurk3R",
        "colab_type": "code",
        "colab": {}
      },
      "source": [
        "import numpy as np\n",
        "import pandas as pd\n",
        "embeddings = pd.read_csv(\"cui2vec_pretrained.csv\")"
      ],
      "execution_count": 0,
      "outputs": []
    },
    {
      "cell_type": "code",
      "metadata": {
        "id": "tLtU36O2sw0V",
        "colab_type": "code",
        "colab": {}
      },
      "source": [
        "def word_list_to_sent_list(clean_text):\n",
        "  \"\"\"\n",
        "  converts to format where each entry of list is a sentence\n",
        "  \"\"\"\n",
        "  output = []\n",
        "  for sentence in clean_text:\n",
        "    if len(sentence) == 0:\n",
        "      output.append('')\n",
        "    else:\n",
        "      output.append(' '.join(sentence))\n",
        "  return output"
      ],
      "execution_count": 0,
      "outputs": []
    },
    {
      "cell_type": "markdown",
      "metadata": {
        "id": "OoXMhjR0uufi",
        "colab_type": "text"
      },
      "source": [
        "## Find entities in each sentence"
      ]
    },
    {
      "cell_type": "code",
      "metadata": {
        "id": "UNCDYvidr5h5",
        "colab_type": "code",
        "colab": {}
      },
      "source": [
        "def clean_sent_list_to_ent_list(clean_sentence_list):\n",
        "  \"\"\"\n",
        "  Takes clean sentence list, such as ['sentence is here', 'sentence is here'].\n",
        "  Note this isn't quite the same as clean_corpus, where each sentence is further a list of words.\n",
        "  \"\"\"\n",
        "  sent_list = []\n",
        "  for s in clean_sentence_list:\n",
        "    sent_list.append(list(nlp_reader(s).ents)) #might be blank.\n",
        "  return sent_list"
      ],
      "execution_count": 0,
      "outputs": []
    },
    {
      "cell_type": "markdown",
      "metadata": {
        "id": "wf6kcLLYw5mv",
        "colab_type": "text"
      },
      "source": [
        "## Entity to vector"
      ]
    },
    {
      "cell_type": "code",
      "metadata": {
        "id": "wjVys6vDw5DB",
        "colab_type": "code",
        "colab": {}
      },
      "source": [
        "def ent_to_vec(entity, cap = 3):\n",
        "  vecsum = np.zeros((500,))\n",
        "  maxrange = min(cap, len(entity._.umls_ents))\n",
        "  for i in range(maxrange):\n",
        "    cuii, scorei = entity._.umls_ents[i]\n",
        "    v = cui_to_vec(cuii)\n",
        "    vecsum += scorei*v\n",
        "  if maxrange > 0:\n",
        "    return vecsum/maxrange \n",
        "  return np.zeros((500,)) # if maxrange is 0, then just return\n",
        "  #return np.mean(vecs, axis=0)"
      ],
      "execution_count": 0,
      "outputs": []
    },
    {
      "cell_type": "markdown",
      "metadata": {
        "id": "mBpG3IN6uyOB",
        "colab_type": "text"
      },
      "source": [
        "## Convert a cui to vector representation"
      ]
    },
    {
      "cell_type": "code",
      "metadata": {
        "id": "i-pGjDaurmvO",
        "colab_type": "code",
        "colab": {}
      },
      "source": [
        "def cui_to_vec(cui):\n",
        "  cui = str(cui).upper()\n",
        "  s = embeddings.loc[embeddings['Unnamed: 0'] == cui] #make sure to run embeddings = pd.read_csv...\n",
        "  vec = s.drop(\"Unnamed: 0\", axis=1)\n",
        "  if s.shape[0] == 0: #if not available cui, then return 0 (i.e. 0 rows)\n",
        "    return np.zeros((500,))\n",
        "  return np.array(vec).ravel()"
      ],
      "execution_count": 0,
      "outputs": []
    },
    {
      "cell_type": "markdown",
      "metadata": {
        "id": "5ubLKNeOu9if",
        "colab_type": "text"
      },
      "source": [
        "## Convert sentence list to vector list"
      ]
    },
    {
      "cell_type": "code",
      "metadata": {
        "id": "a38zTbZirv9x",
        "colab_type": "code",
        "colab": {}
      },
      "source": [
        "def entList_to_vec(ent_list):\n",
        " # if len(ent_list) == 0:\n",
        "  #  return np.zeros()\n",
        "  outputsum = np.zeros((500,))\n",
        "  nonzero_count = 0\n",
        "  for ent in ent_list:\n",
        "    v = ent_to_vec(ent)\n",
        "    if np.sum(v) == 0:\n",
        "      continue\n",
        "    nonzero_count += 1\n",
        "    outputsum += v\n",
        "  if nonzero_count == 0:\n",
        "    return np.zeros((500,))\n",
        "  return outputsum/nonzero_count"
      ],
      "execution_count": 0,
      "outputs": []
    },
    {
      "cell_type": "code",
      "metadata": {
        "id": "BWCg0xKar0DK",
        "colab_type": "code",
        "colab": {}
      },
      "source": [
        "def sentList_to_vecList(sent_list):\n",
        "  vec_list = []\n",
        "  for ent_list in sent_list:\n",
        "    vec_list.append(entList_to_vec(ent_list))\n",
        "  return vec_list"
      ],
      "execution_count": 0,
      "outputs": []
    },
    {
      "cell_type": "code",
      "metadata": {
        "id": "ZIiz1Zm7yLs5",
        "colab_type": "code",
        "colab": {}
      },
      "source": [
        "entity_list_list = clean_sent_list_to_ent_list(word_list_to_sent_list(clean_corpus))"
      ],
      "execution_count": 0,
      "outputs": []
    },
    {
      "cell_type": "code",
      "metadata": {
        "id": "rOHeR9Kjr1mV",
        "colab_type": "code",
        "colab": {}
      },
      "source": [
        "vec_cui_corpus = sentList_to_vecList(entity_list_list)"
      ],
      "execution_count": 0,
      "outputs": []
    },
    {
      "cell_type": "markdown",
      "metadata": {
        "id": "OeDNaJfmuOhW",
        "colab_type": "text"
      },
      "source": [
        "## Similarity Matrix"
      ]
    },
    {
      "cell_type": "code",
      "metadata": {
        "id": "fGamXPeSuRSk",
        "colab_type": "code",
        "colab": {}
      },
      "source": [
        "matrix_cui_corpus = get_sim_matrix(vec_cui_corpus, 500)"
      ],
      "execution_count": 0,
      "outputs": []
    },
    {
      "cell_type": "markdown",
      "metadata": {
        "id": "qpjpDBUFuFYq",
        "colab_type": "text"
      },
      "source": [
        "## Perform TextRank"
      ]
    },
    {
      "cell_type": "code",
      "metadata": {
        "id": "rA99FbmrHI_-",
        "colab_type": "code",
        "colab": {}
      },
      "source": [
        "top_n = 5#len(original_abstract) # can use 5"
      ],
      "execution_count": 0,
      "outputs": []
    },
    {
      "cell_type": "code",
      "metadata": {
        "id": "8RSvrnrruICW",
        "colab_type": "code",
        "outputId": "f8bbf7ae-da60-4492-bec5-7d934e2316bc",
        "colab": {
          "base_uri": "https://localhost:8080/",
          "height": 139
        }
      },
      "source": [
        "cui_summary = textrank(matrix_cui_corpus, original_corpus, clean_corpus, top_n=top_n)"
      ],
      "execution_count": 0,
      "outputs": [
        {
          "output_type": "stream",
          "text": [
            "Summary:\n",
            "FISH on sections of the mitral valve tissue simultaneously using the probes AURI (Cy3-labeled), EUB338 (FITC-labeled), NONEUB (Cy5), and the nucleic acid stain DAPI (blue) identified the infectious agent in situ as A\n",
            "FISH reveals impressive biofilms on the mitral heart valve from the first patient, identifying the infectious agent as Aerococcus urinae\n",
            "urinae blood culture isolate from a patient not related to the cases presented here served as a positive control\n",
            "In recent years molecular biological methods such as nucleic acid amplification techniques (NAT) and fluorescence in situ hybridization (FISH) have helped detect microorganisms that might otherwise be missed by routine culture methods [4]\n",
            "FISH reveals Aerococcus urinae infiltrating the aortic heart valve from the second patient\n"
          ],
          "name": "stdout"
        }
      ]
    },
    {
      "cell_type": "markdown",
      "metadata": {
        "id": "gGgln_vKzx5l",
        "colab_type": "text"
      },
      "source": [
        "# Evaluate summary against abstract\n",
        "Defined variables:\n",
        "* original_abstract\n",
        "* clean_abstract\n",
        "* glove_summary\n",
        "* cui_summary\n",
        "\n",
        "Output variables:\n",
        "\n",
        "ROUGE n-gram implementation"
      ]
    },
    {
      "cell_type": "markdown",
      "metadata": {
        "id": "Fmw33jSLGUFU",
        "colab_type": "text"
      },
      "source": [
        "## Direct comparison by eye"
      ]
    },
    {
      "cell_type": "code",
      "metadata": {
        "id": "o8ON81YPG8Jr",
        "colab_type": "code",
        "colab": {}
      },
      "source": [
        "top_n = 5#len(original_abstract)"
      ],
      "execution_count": 0,
      "outputs": []
    },
    {
      "cell_type": "code",
      "metadata": {
        "id": "iKsRzHmeE9Bg",
        "colab_type": "code",
        "colab": {}
      },
      "source": [
        "def direct_comparison(summary, abstract, top_n=5):\n",
        "  summary_string = ''\n",
        "  for _,_,_,i in summary[0:top_n]:\n",
        "    summary_string += original_corpus[i].strip() + '. '\n",
        "  abstract_string = '. '.join(abstract)\n",
        "  return summary_string, abstract_string"
      ],
      "execution_count": 0,
      "outputs": []
    },
    {
      "cell_type": "code",
      "metadata": {
        "id": "y4_e_j3XFZ_o",
        "colab_type": "code",
        "colab": {}
      },
      "source": [
        "s_cui,a = direct_comparison(cui_summary, original_abstract, top_n=top_n)"
      ],
      "execution_count": 0,
      "outputs": []
    },
    {
      "cell_type": "code",
      "metadata": {
        "id": "I8IArQcsGJro",
        "colab_type": "code",
        "outputId": "9064dea8-ea2d-43c8-ff19-fcb4bcf55332",
        "colab": {
          "base_uri": "https://localhost:8080/",
          "height": 54
        }
      },
      "source": [
        "print(s_cui) #print generated summary"
      ],
      "execution_count": 0,
      "outputs": [
        {
          "output_type": "stream",
          "text": [
            "FISH on sections of the mitral valve tissue simultaneously using the probes AURI (Cy3-labeled), EUB338 (FITC-labeled), NONEUB (Cy5), and the nucleic acid stain DAPI (blue) identified the infectious agent in situ as A. FISH reveals impressive biofilms on the mitral heart valve from the first patient, identifying the infectious agent as Aerococcus urinae. urinae blood culture isolate from a patient not related to the cases presented here served as a positive control. In recent years molecular biological methods such as nucleic acid amplification techniques (NAT) and fluorescence in situ hybridization (FISH) have helped detect microorganisms that might otherwise be missed by routine culture methods [4]. FISH reveals Aerococcus urinae infiltrating the aortic heart valve from the second patient. \n"
          ],
          "name": "stdout"
        }
      ]
    },
    {
      "cell_type": "code",
      "metadata": {
        "id": "jG9DCnWGGRTM",
        "colab_type": "code",
        "outputId": "f502984b-f112-4168-8c10-8b07bd4ef49a",
        "colab": {
          "base_uri": "https://localhost:8080/",
          "height": 54
        }
      },
      "source": [
        "print(a) #print abstract"
      ],
      "execution_count": 0,
      "outputs": [
        {
          "output_type": "stream",
          "text": [
            "The diagnosis of infective endocarditis (IE) remains a challenge.  One of the rare bacterial species recently associated with biofilms and negative cultures in infective endocarditis is Aerococcus urinae.  Whether the low number of reported cases might be due to lack of awareness and misidentification, mainly as streptococci, is currently being discussed.  To verify the relevance and biofilm potential of Aerococcus in endocarditis, we used fluorescence in situ hybridization to visualize the microorganisms within the heart valve tissue.  We designed and optimized a specific FISH probe (AURI) for in situ visualization and identification of A.  urinae in sections of heart valves from two IE patients whose 16S rRNA gene sequencing had deteced A.  urinae.  Both patients had a history of urinary tract infections.  FISH visualized impressive in vivo grown biofilms in IE, thus confirming the potential of A.  urinae as a biofilm pathogen.  In both cases, FISH/PCR was the only method to unequivocally identify A.  urinae as the only causative pathogen for IE.  The specific FISH assay for A.  urinae is now available for further application in research and diagnostics.  A.  urinae should be considered in endocarditis patients with a history of urinary tract infections.  These findings support the biofilm potential of A.  urinae as a virulence factor and are meant to raise the awareness of this pathogen. \n"
          ],
          "name": "stdout"
        }
      ]
    },
    {
      "cell_type": "code",
      "metadata": {
        "id": "FvGyDFYpGW37",
        "colab_type": "code",
        "colab": {}
      },
      "source": [
        "s_glove,a = direct_comparison(glove_summary, original_abstract)"
      ],
      "execution_count": 0,
      "outputs": []
    },
    {
      "cell_type": "code",
      "metadata": {
        "id": "aU_Mt8omGeih",
        "colab_type": "code",
        "outputId": "8995abf3-d46a-40a5-e2a7-b0eccd450795",
        "colab": {
          "base_uri": "https://localhost:8080/",
          "height": 54
        }
      },
      "source": [
        "print(s_glove)"
      ],
      "execution_count": 0,
      "outputs": [
        {
          "output_type": "stream",
          "text": [
            "Bacterial strains for the positive and negative controls were fixed as described elsewhere [30] and were included in each FISH experiment to control the probe specificity and sensitivity. urinae described in this paper, we now have at our disposal a test system for further research and diagnostics for culture-negative heart valves that enables rapid and specific species identification and targeted antibiotic therapy. The direct detection of microorganisms in valve specimens by FISH enables the simultaneous visualization and identification of the causative agent in situ, also in culture-negative cases [5]. Reasons for culture-negative results may include biofilm growth, previous antibiotic treatment and/or rare or slow-growing bacterial species that are missed by routine culture methods. We analyzed heart valve samples from two IE patients in whom routine culture methods did not immediately correctly identify the key causative pathogen. \n"
          ],
          "name": "stdout"
        }
      ]
    },
    {
      "cell_type": "markdown",
      "metadata": {
        "id": "HCq6qemm2kX6",
        "colab_type": "text"
      },
      "source": [
        "## Rouge"
      ]
    },
    {
      "cell_type": "code",
      "metadata": {
        "id": "qThwO2mN3Qoj",
        "colab_type": "code",
        "outputId": "dfcad39d-d01c-4292-a9dc-6f35d99b0d89",
        "colab": {
          "base_uri": "https://localhost:8080/",
          "height": 105
        }
      },
      "source": [
        "!pip install easy-rouge"
      ],
      "execution_count": 0,
      "outputs": [
        {
          "output_type": "stream",
          "text": [
            "Collecting easy-rouge\n",
            "  Downloading https://files.pythonhosted.org/packages/0c/0a/b7ebb887dac3ece27fffc65bbc7dc0abcf991f2ccce8073126329ce4be8f/easy_rouge-0.2.2-py3-none-any.whl\n",
            "Installing collected packages: easy-rouge\n",
            "Successfully installed easy-rouge-0.2.2\n"
          ],
          "name": "stdout"
        }
      ]
    },
    {
      "cell_type": "code",
      "metadata": {
        "id": "6wb3G0TP21F4",
        "colab_type": "code",
        "colab": {}
      },
      "source": [
        "from rouge.rouge import rouge_n_summary_level"
      ],
      "execution_count": 0,
      "outputs": []
    },
    {
      "cell_type": "code",
      "metadata": {
        "id": "i9tHsaX5nvxl",
        "colab_type": "code",
        "colab": {}
      },
      "source": [
        "def clean_summary_only(summary, top_n=5):\n",
        "  \"\"\"\n",
        "  Extract only the clean summary sentences\n",
        "  summary: [ (score, orig sentence, clean sentence, index), ...]\n",
        "  \"\"\"\n",
        "  top_n = min(top_n, len(summary))\n",
        "  return [summary[i][2] for i in range(top_n)]"
      ],
      "execution_count": 0,
      "outputs": []
    },
    {
      "cell_type": "code",
      "metadata": {
        "id": "sfxZ2flk5Wca",
        "colab_type": "code",
        "colab": {}
      },
      "source": [
        "def flatten_sentence_list(sentence_list):\n",
        "  \"\"\"\n",
        "  joins all the words in sentence list into a single string\n",
        "  \"\"\"\n",
        "  output = ''\n",
        "  for sentence in sentence_list:\n",
        "    output += ' '.join(sentence) + '. '\n",
        "  return output"
      ],
      "execution_count": 0,
      "outputs": []
    },
    {
      "cell_type": "code",
      "metadata": {
        "id": "zXOmNFaL5vHT",
        "colab_type": "code",
        "colab": {}
      },
      "source": [
        "def rouge(summary, abstract):\n",
        "  # make sure theyre flattened to a single string\n",
        "  flat_summary = flatten_sentence_list(summary)\n",
        "  flat_abstract = flatten_sentence_list(abstract)\n",
        "  recall, precision, fscore = rouge_n_summary_level(flat_summary, flat_abstract, 1)\n",
        "  print('ROUGE-1-R', recall)\n",
        "  print('ROUGE-1-P', precision)\n",
        "  print('ROUGE-1-F', fscore)"
      ],
      "execution_count": 0,
      "outputs": []
    },
    {
      "cell_type": "code",
      "metadata": {
        "id": "1cMTWKEhnwoj",
        "colab_type": "code",
        "colab": {}
      },
      "source": [
        "# get the summary words only\n",
        "clean_cui_summary = clean_summary_only(cui_summary)\n",
        "clean_glove_summary = clean_summary_only(glove_summary)"
      ],
      "execution_count": 0,
      "outputs": []
    },
    {
      "cell_type": "code",
      "metadata": {
        "id": "PLNj5LMv5-uw",
        "colab_type": "code",
        "outputId": "99e1410a-95f2-4eec-a2c4-3f8ff60b264d",
        "colab": {
          "base_uri": "https://localhost:8080/",
          "height": 68
        }
      },
      "source": [
        "# apply rouge to compare\n",
        "rouge(clean_cui_summary, clean_abstract)"
      ],
      "execution_count": 0,
      "outputs": [
        {
          "output_type": "stream",
          "text": [
            "ROUGE-1-R 0.6652806652806653\n",
            "ROUGE-1-P 0.9815950920245399\n",
            "ROUGE-1-F 0.7930607187112764\n"
          ],
          "name": "stdout"
        }
      ]
    },
    {
      "cell_type": "code",
      "metadata": {
        "id": "pQ4nsSWTCa_q",
        "colab_type": "code",
        "outputId": "2bf65a30-36ca-4c85-99f8-683bb56ca1af",
        "colab": {
          "base_uri": "https://localhost:8080/",
          "height": 68
        }
      },
      "source": [
        "rouge(clean_glove_summary, clean_abstract)"
      ],
      "execution_count": 0,
      "outputs": [
        {
          "output_type": "stream",
          "text": [
            "ROUGE-1-R 0.762993762993763\n",
            "ROUGE-1-P 0.9852348993288591\n",
            "ROUGE-1-F 0.8599882835383714\n"
          ],
          "name": "stdout"
        }
      ]
    },
    {
      "cell_type": "markdown",
      "metadata": {
        "id": "hTlktcKAmZMv",
        "colab_type": "text"
      },
      "source": [
        "## Histogram of scores"
      ]
    },
    {
      "cell_type": "code",
      "metadata": {
        "id": "CGR73H7-0ZXW",
        "colab_type": "code",
        "colab": {}
      },
      "source": [
        "import matplotlib.pyplot as plt"
      ],
      "execution_count": 0,
      "outputs": []
    },
    {
      "cell_type": "code",
      "metadata": {
        "id": "2jM9IOVfzpzX",
        "colab_type": "code",
        "colab": {}
      },
      "source": [
        "# how many are zeros (e.g. in matrix also)"
      ],
      "execution_count": 0,
      "outputs": []
    },
    {
      "cell_type": "code",
      "metadata": {
        "id": "LGo5X9710Ops",
        "colab_type": "code",
        "colab": {}
      },
      "source": [
        "def scores(summary):\n",
        "  return [summary[i][0] for i in range(len(summary))]"
      ],
      "execution_count": 0,
      "outputs": []
    },
    {
      "cell_type": "code",
      "metadata": {
        "id": "-EwrdM610V3V",
        "colab_type": "code",
        "colab": {}
      },
      "source": [
        "cui_scores = scores(cui_summary)\n",
        "glove_scores = scores(glove_summary)"
      ],
      "execution_count": 0,
      "outputs": []
    },
    {
      "cell_type": "code",
      "metadata": {
        "id": "Ubgcee0w03UN",
        "colab_type": "code",
        "outputId": "31296caf-f000-4552-e4f1-0156db3c20e1",
        "colab": {
          "base_uri": "https://localhost:8080/",
          "height": 350
        }
      },
      "source": [
        "plt.hist(glove_scores)"
      ],
      "execution_count": 0,
      "outputs": [
        {
          "output_type": "execute_result",
          "data": {
            "text/plain": [
              "(array([71.,  1.,  0.,  0.,  5.,  5., 14., 15., 52., 57.]),\n",
              " array([0.00093998, 0.00158047, 0.00222095, 0.00286144, 0.00350193,\n",
              "        0.00414242, 0.00478291, 0.0054234 , 0.00606389, 0.00670437,\n",
              "        0.00734486]),\n",
              " <a list of 10 Patch objects>)"
            ]
          },
          "metadata": {
            "tags": []
          },
          "execution_count": 186
        },
        {
          "output_type": "display_data",
          "data": {
            "image/png": "[encoded data removed]",
            "text/plain": [
              "<Figure size 432x288 with 1 Axes>"
            ]
          },
          "metadata": {
            "tags": [],
            "needs_background": "light"
          }
        }
      ]
    },
    {
      "cell_type": "code",
      "metadata": {
        "id": "lhMrrTJ80j-w",
        "colab_type": "code",
        "outputId": "b5b60acb-2d98-487b-bc56-4bbd69acd10a",
        "colab": {
          "base_uri": "https://localhost:8080/",
          "height": 350
        }
      },
      "source": [
        "plt.hist(cui_scores)"
      ],
      "execution_count": 0,
      "outputs": [
        {
          "output_type": "execute_result",
          "data": {
            "text/plain": [
              "(array([79.,  2.,  5.,  4., 15., 23., 24., 37., 23.,  8.]),\n",
              " array([0.00091479, 0.00177085, 0.0026269 , 0.00348295, 0.00433901,\n",
              "        0.00519506, 0.00605112, 0.00690717, 0.00776322, 0.00861928,\n",
              "        0.00947533]),\n",
              " <a list of 10 Patch objects>)"
            ]
          },
          "metadata": {
            "tags": []
          },
          "execution_count": 187
        },
        {
          "output_type": "display_data",
          "data": {
            "image/png": "[encoded data removed]",
            "text/plain": [
              "<Figure size 432x288 with 1 Axes>"
            ]
          },
          "metadata": {
            "tags": [],
            "needs_background": "light"
          }
        }
      ]
    },
    {
      "cell_type": "markdown",
      "metadata": {
        "id": "DaNOrlXF1LWf",
        "colab_type": "text"
      },
      "source": [
        "## Matrix visualization\n",
        "Input:\n",
        "* matrix_text (matrix_glove_corpus, matrix_cui_corpus)"
      ]
    },
    {
      "cell_type": "code",
      "metadata": {
        "id": "2jtw7YmC1M4l",
        "colab_type": "code",
        "colab": {}
      },
      "source": [
        "import matplotlib.pyplot as plt"
      ],
      "execution_count": 0,
      "outputs": []
    },
    {
      "cell_type": "code",
      "metadata": {
        "id": "zsAUoYb6pi4W",
        "colab_type": "code",
        "colab": {}
      },
      "source": [
        "def visualize_matrix(matrix_text, remove_blank_sentences=True):\n",
        "  \"\"\"\n",
        "  Plots similarity matrix of sentence vectors.\n",
        "  Option to remove blank sentences with 0 similarity.\n",
        "  \"\"\"\n",
        "  if not remove_blank_sentences:\n",
        "    plt.matshow(matrix_text, cmap=plt.cm.Blues)\n",
        "    plt.show()\n",
        "    return\n",
        "\n",
        "  # remove all the zero'd sentences\n",
        "  no_zero_mat = matrix_text[~np.all(matrix_text == 0, axis=1)]\n",
        "  no_zero_mat = no_zero_mat[:,~np.all(no_zero_mat == 0, axis=0)]\n",
        "  plt.matshow(no_zero_mat, cmap=plt.cm.Blues)\n",
        "  plt.show()"
      ],
      "execution_count": 0,
      "outputs": []
    },
    {
      "cell_type": "code",
      "metadata": {
        "id": "opRFZr1-qSXw",
        "colab_type": "code",
        "outputId": "75f3e6aa-967e-45c5-fc5c-0ecf67e914e9",
        "colab": {
          "base_uri": "https://localhost:8080/",
          "height": 275
        }
      },
      "source": [
        "visualize_matrix(matrix_glove_corpus, remove_blank_sentences=False)"
      ],
      "execution_count": 0,
      "outputs": [
        {
          "output_type": "display_data",
          "data": {
            "image/png": "[encoded data removed]",
            "text/plain": [
              "<Figure size 288x288 with 1 Axes>"
            ]
          },
          "metadata": {
            "tags": [],
            "needs_background": "light"
          }
        }
      ]
    },
    {
      "cell_type": "code",
      "metadata": {
        "id": "jw2KKfytqVUW",
        "colab_type": "code",
        "outputId": "d3a10135-61d6-40b6-83be-cd0f7af92976",
        "colab": {
          "base_uri": "https://localhost:8080/",
          "height": 275
        }
      },
      "source": [
        "visualize_matrix(matrix_cui_corpus, remove_blank_sentences=False)"
      ],
      "execution_count": 0,
      "outputs": [
        {
          "output_type": "display_data",
          "data": {
            "image/png": "[encoded data removed]",
            "text/plain": [
              "<Figure size 288x288 with 1 Axes>"
            ]
          },
          "metadata": {
            "tags": [],
            "needs_background": "light"
          }
        }
      ]
    },
    {
      "cell_type": "markdown",
      "metadata": {
        "id": "y06ZVoL4IXNS",
        "colab_type": "text"
      },
      "source": [
        "# Additional notes\n",
        "* why sentence importance and length are correlated"
      ]
    },
    {
      "cell_type": "code",
      "metadata": {
        "id": "Q6jnWwb9Ib0V",
        "colab_type": "code",
        "colab": {}
      },
      "source": [
        "def plot_length_vs_importance(summary):\n",
        "  y = [(stc[0], len(stc[1])) for stc in summary]\n",
        "  plt.scatter(*zip(*y))\n",
        "  plt.xlabel(\"Importance Score\")\n",
        "  plt.ylabel(\"Sentence Length (chars)\")\n",
        "  plt.show()"
      ],
      "execution_count": 0,
      "outputs": []
    },
    {
      "cell_type": "code",
      "metadata": {
        "id": "de32-kQrzeeu",
        "colab_type": "code",
        "outputId": "6b9a9577-45f6-489c-e284-5df2adaaef7c",
        "colab": {
          "base_uri": "https://localhost:8080/",
          "height": 283
        }
      },
      "source": [
        "plot_length_vs_importance(glove_summary)"
      ],
      "execution_count": 0,
      "outputs": [
        {
          "output_type": "display_data",
          "data": {
            "image/png": "[encoded data removed]",
            "text/plain": [
              "<Figure size 432x288 with 1 Axes>"
            ]
          },
          "metadata": {
            "tags": [],
            "needs_background": "light"
          }
        }
      ]
    },
    {
      "cell_type": "code",
      "metadata": {
        "id": "herfn_PhKvDb",
        "colab_type": "code",
        "outputId": "1134f936-ea45-4618-c1df-6cfd75ba50dd",
        "colab": {
          "base_uri": "https://localhost:8080/",
          "height": 283
        }
      },
      "source": [
        "plot_length_vs_importance(cui_summary)"
      ],
      "execution_count": 0,
      "outputs": [
        {
          "output_type": "display_data",
          "data": {
            "image/png": "[encoded data removed]",
            "text/plain": [
              "<Figure size 432x288 with 1 Axes>"
            ]
          },
          "metadata": {
            "tags": [],
            "needs_background": "light"
          }
        }
      ]
    },
    {
      "cell_type": "code",
      "metadata": {
        "id": "R_xKr833KwkR",
        "colab_type": "code",
        "colab": {}
      },
      "source": [
        ""
      ],
      "execution_count": 0,
      "outputs": []
    }
  ]
}
