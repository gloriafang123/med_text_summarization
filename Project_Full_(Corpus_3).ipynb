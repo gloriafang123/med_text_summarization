{
  "nbformat": 4,
  "nbformat_minor": 0,
  "metadata": {
    "colab": {
      "name": "Project: Full (Corpus 3)",
      "provenance": [],
      "collapsed_sections": [],
      "toc_visible": true,
      "machine_shape": "hm"
    },
    "kernelspec": {
      "name": "python3",
      "display_name": "Python 3"
    }
  },
  "cells": [
    {
      "cell_type": "markdown",
      "metadata": {
        "id": "D5o2Kt1bzbM1",
        "colab_type": "text"
      },
      "source": [
        "# Extract abstract and corpus\n",
        "Defined variables:\n",
        "* site: url link to site\n",
        "\n",
        "Output variables:\n",
        "* original_abstract: abstract sentence list\n",
        "* original_corpus: corpus sentence list\n",
        "* clean_abstract: remove stopwords, lowercased, punctuation, etc. cleaned sentence list of abstract\n",
        "* clean_corpus: cleaned corpus, list of sentences\n",
        "\n",
        "Note: original and cleaned versions should have same length, for consistency.\n",
        "Note each sentence is itself list of words."
      ]
    },
    {
      "cell_type": "markdown",
      "metadata": {
        "id": "vFbjnn9trK50",
        "colab_type": "text"
      },
      "source": [
        "NOTE: run sci-spacy and pip installs first, which require runtime restarting, and may override glove etc. imports"
      ]
    },
    {
      "cell_type": "code",
      "metadata": {
        "id": "0Lpkx1pT-ABy",
        "colab_type": "code",
        "colab": {}
      },
      "source": [
        "import numpy as np\n",
        "import pandas as pd\n",
        "import re"
      ],
      "execution_count": 0,
      "outputs": []
    },
    {
      "cell_type": "code",
      "metadata": {
        "id": "bUnBya6x-N5E",
        "colab_type": "code",
        "outputId": "9db7d526-44fd-4658-e194-b1e955edac0f",
        "colab": {
          "base_uri": "https://localhost:8080/",
          "height": 86
        }
      },
      "source": [
        "import nltk\n",
        "nltk.download('punkt')\n",
        "nltk.download('stopwords')\n",
        "from nltk.corpus import stopwords\n",
        "stop_words = stopwords.words('english')"
      ],
      "execution_count": 0,
      "outputs": [
        {
          "output_type": "stream",
          "text": [
            "[nltk_data] Downloading package punkt to /root/nltk_data...\n",
            "[nltk_data]   Unzipping tokenizers/punkt.zip.\n",
            "[nltk_data] Downloading package stopwords to /root/nltk_data...\n",
            "[nltk_data]   Unzipping corpora/stopwords.zip.\n"
          ],
          "name": "stdout"
        }
      ]
    },
    {
      "cell_type": "code",
      "metadata": {
        "id": "FxiI_SU5_aGI",
        "colab_type": "code",
        "colab": {}
      },
      "source": [
        "def read_file(filename):\n",
        "  \"\"\"\n",
        "  Obtains original text in filename, in sentence list form.\n",
        "  \"\"\"\n",
        "  reader = open(filename)\n",
        "  text = ''\n",
        "  for line in reader:\n",
        "    text += line + '\\n'\n",
        "\n",
        "  #obtain a sentence list of the original text (abstract or corpus)\n",
        "  original_text = text.strip().split('.')\n",
        "  return original_text"
      ],
      "execution_count": 0,
      "outputs": []
    },
    {
      "cell_type": "code",
      "metadata": {
        "id": "NjVLsGkU5aG6",
        "colab_type": "code",
        "colab": {}
      },
      "source": [
        "def clean_text(original_text, sentence_length_cutoff=5):\n",
        "  \"\"\"\n",
        "  obtain a clean sentence list of original_text\n",
        "  no punctuation, lowercase, no stop words, and no short sentences\n",
        "  \"\"\"\n",
        "  clean_text = []\n",
        "  for sentence in original_text:\n",
        "    sentence = sentence.lower()\n",
        "    sentence = re.sub(\"[^a-zA-Z0-9.]\", \" \", sentence)\n",
        "    sentence = sentence.split()\n",
        "    sentence_no_stopwords = [word for word in sentence if word not in stop_words]\n",
        "    if len(sentence_no_stopwords) < sentence_length_cutoff:\n",
        "      sentence_no_stopwords = [] #treat it as an empty sentence.\n",
        "      #we still need something there for a placeholder, for indexing.\n",
        "    clean_text.append(sentence_no_stopwords)\n",
        "  return clean_text\n"
      ],
      "execution_count": 0,
      "outputs": []
    },
    {
      "cell_type": "code",
      "metadata": {
        "id": "45Ivc23T-9mn",
        "colab_type": "code",
        "colab": {}
      },
      "source": [
        "#note the length is the same between original versus cleaned.\n",
        "original_abstract = read_file('abstract_3.txt')\n",
        "clean_abstract = clean_text(original_abstract)"
      ],
      "execution_count": 0,
      "outputs": []
    },
    {
      "cell_type": "code",
      "metadata": {
        "id": "uv49Pnp_A4Yh",
        "colab_type": "code",
        "colab": {}
      },
      "source": [
        "original_corpus = read_file('corpus_3.txt')\n",
        "clean_corpus = clean_text(original_corpus)"
      ],
      "execution_count": 0,
      "outputs": []
    },
    {
      "cell_type": "markdown",
      "metadata": {
        "id": "6ksb6qsozgKJ",
        "colab_type": "text"
      },
      "source": [
        "# Apply GloVe to a corpus\n",
        "Defined variables:\n",
        "* clean_corpus\n",
        "\n",
        "Output variables:\n",
        "* glove_summary, a list of (score, original sentence, clean sentence, index) sorted highest to lowest score\n",
        "\n",
        "Note: we can use index to find corresponding clean_corpus sentences if desired."
      ]
    },
    {
      "cell_type": "code",
      "metadata": {
        "id": "vCO2YGviBods",
        "colab_type": "code",
        "outputId": "568b6905-4259-42dc-d880-1a0f07f5feab",
        "colab": {
          "base_uri": "https://localhost:8080/",
          "height": 471
        }
      },
      "source": [
        "# download GloVe\n",
        "!wget http://nlp.stanford.edu/data/glove.6B.zip\n",
        "!unzip glove*.zip"
      ],
      "execution_count": 0,
      "outputs": [
        {
          "output_type": "stream",
          "text": [
            "--2020-04-29 13:49:01--  http://nlp.stanford.edu/data/glove.6B.zip\n",
            "Resolving nlp.stanford.edu (nlp.stanford.edu)... 171.64.67.140\n",
            "Connecting to nlp.stanford.edu (nlp.stanford.edu)|171.64.67.140|:80... connected.\n",
            "HTTP request sent, awaiting response... 302 Found\n",
            "Location: https://nlp.stanford.edu/data/glove.6B.zip [following]\n",
            "--2020-04-29 13:49:01--  https://nlp.stanford.edu/data/glove.6B.zip\n",
            "Connecting to nlp.stanford.edu (nlp.stanford.edu)|171.64.67.140|:443... connected.\n",
            "HTTP request sent, awaiting response... 301 Moved Permanently\n",
            "Location: http://downloads.cs.stanford.edu/nlp/data/glove.6B.zip [following]\n",
            "--2020-04-29 13:49:02--  http://downloads.cs.stanford.edu/nlp/data/glove.6B.zip\n",
            "Resolving downloads.cs.stanford.edu (downloads.cs.stanford.edu)... 171.64.64.22\n",
            "Connecting to downloads.cs.stanford.edu (downloads.cs.stanford.edu)|171.64.64.22|:80... connected.\n",
            "HTTP request sent, awaiting response... 200 OK\n",
            "Length: 862182613 (822M) [application/zip]\n",
            "Saving to: ‘glove.6B.zip’\n",
            "\n",
            "glove.6B.zip        100%[===================>] 822.24M  2.18MB/s    in 6m 29s  \n",
            "\n",
            "2020-04-29 13:55:31 (2.11 MB/s) - ‘glove.6B.zip’ saved [862182613/862182613]\n",
            "\n",
            "Archive:  glove.6B.zip\n",
            "  inflating: glove.6B.50d.txt        \n",
            "  inflating: glove.6B.100d.txt       \n",
            "  inflating: glove.6B.200d.txt       \n",
            "  inflating: glove.6B.300d.txt       \n"
          ],
          "name": "stdout"
        }
      ]
    },
    {
      "cell_type": "code",
      "metadata": {
        "id": "zU-AK2c-CURN",
        "colab_type": "code",
        "colab": {}
      },
      "source": [
        "# store a dictionary of word to corresponding GloVe vector\n",
        "word_to_vec = {}\n",
        "f = open('glove.6B.100d.txt', encoding='utf-8')\n",
        "for line in f:\n",
        "    values = line.split()\n",
        "    word = values[0]\n",
        "    coefs = np.asarray(values[1:], dtype='float32')\n",
        "    word_to_vec[word] = coefs\n",
        "f.close()"
      ],
      "execution_count": 0,
      "outputs": []
    },
    {
      "cell_type": "markdown",
      "metadata": {
        "id": "EIFH6j93Bg0J",
        "colab_type": "text"
      },
      "source": [
        "## Vectorize corpus\n",
        "Output\n",
        "* vec_corpus, list of vectors. 1 vector for each sentence."
      ]
    },
    {
      "cell_type": "code",
      "metadata": {
        "id": "dpKd9aOGBuwn",
        "colab_type": "code",
        "colab": {}
      },
      "source": [
        "def vectorize_word(w):\n",
        "  \"\"\"\n",
        "  Returns the 100-dimension GloVe vector for a word, or zero vector if not found.\n",
        "  \"\"\"\n",
        "  return word_to_vec.get(w, np.zeros((100,)))"
      ],
      "execution_count": 0,
      "outputs": []
    },
    {
      "cell_type": "code",
      "metadata": {
        "id": "WKP9D666B_YM",
        "colab_type": "code",
        "colab": {}
      },
      "source": [
        "def vectorize_summary(clean_sentence_list):\n",
        "  \"\"\"\n",
        "  Returns a list of vectors, where each vector represents the vector of a sentence.\n",
        "  The vector of each sentence is the mean of the vectors of the words in the sentence.\n",
        "  \"\"\"\n",
        "  vec_sentences = []\n",
        "  for sentence in clean_sentence_list:\n",
        "    vec_sentences.append(np.mean(\n",
        "        np.array([vectorize_word(w) for w in sentence])\n",
        "        , axis=0))\n",
        "  return vec_sentences"
      ],
      "execution_count": 0,
      "outputs": []
    },
    {
      "cell_type": "code",
      "metadata": {
        "id": "Fd7fFIVAC-T2",
        "colab_type": "code",
        "outputId": "3f0d0de3-b0ab-4263-d0d4-4c7a1ab157af",
        "colab": {
          "base_uri": "https://localhost:8080/",
          "height": 106
        }
      },
      "source": [
        "vec_glove_corpus = vectorize_summary(clean_corpus)"
      ],
      "execution_count": 68,
      "outputs": [
        {
          "output_type": "stream",
          "text": [
            "/usr/local/lib/python3.6/dist-packages/numpy/core/fromnumeric.py:3335: RuntimeWarning: Mean of empty slice.\n",
            "  out=out, **kwargs)\n",
            "/usr/local/lib/python3.6/dist-packages/numpy/core/_methods.py:161: RuntimeWarning: invalid value encountered in double_scalars\n",
            "  ret = ret.dtype.type(ret / rcount)\n"
          ],
          "name": "stderr"
        }
      ]
    },
    {
      "cell_type": "markdown",
      "metadata": {
        "id": "qBC94bSBC6ED",
        "colab_type": "text"
      },
      "source": [
        "# Obtain Similarity Matrix\n",
        "Input\n",
        "* vec_glove_corpus or vec_cui_corpus\n",
        "\n",
        "Output\n",
        "* matrix_glove_corpus or matrix_cui_corpus: similarity matrix of vec_glove_corpus"
      ]
    },
    {
      "cell_type": "code",
      "metadata": {
        "id": "FI8n1AeyDHfB",
        "colab_type": "code",
        "colab": {}
      },
      "source": [
        "from sklearn.metrics.pairwise import cosine_similarity"
      ],
      "execution_count": 0,
      "outputs": []
    },
    {
      "cell_type": "code",
      "metadata": {
        "id": "ZUZHxZCRC7mX",
        "colab_type": "code",
        "colab": {}
      },
      "source": [
        "def get_sim_matrix(vec_sentences, vec_length):\n",
        "  \"\"\"\n",
        "  vec_length is 100 for gloVe, and 500 for Cui2vec\n",
        "  \"\"\"\n",
        "  similarity_matrix = np.zeros(\n",
        "      [len(vec_sentences), len(vec_sentences)], dtype=float)\n",
        "  #two perpendicular vectors have 0 similarity, because cosine of 90 is 0.\n",
        "\n",
        "  for i in range(len(vec_sentences)):\n",
        "    for j in range(len(vec_sentences)):\n",
        "      if i != j:\n",
        "          if np.isnan(np.sum(vec_sentences[i])) or np.isnan(np.sum(vec_sentences[j])):\n",
        "            similarity_matrix[i][j] = 0\n",
        "            #one of them is nan\n",
        "          else:\n",
        "            similarity_matrix[i][j] = cosine_similarity(\n",
        "                vec_sentences[i].reshape(1,vec_length), # because 100 dimension GloVe vector\n",
        "                vec_sentences[j].reshape(1,vec_length))[0,0]\n",
        "  return similarity_matrix"
      ],
      "execution_count": 0,
      "outputs": []
    },
    {
      "cell_type": "code",
      "metadata": {
        "id": "Sb0W3GMzDlVx",
        "colab_type": "code",
        "colab": {}
      },
      "source": [
        "matrix_glove_corpus = get_sim_matrix(vec_glove_corpus, 100)"
      ],
      "execution_count": 0,
      "outputs": []
    },
    {
      "cell_type": "markdown",
      "metadata": {
        "id": "chFtk272CuEj",
        "colab_type": "text"
      },
      "source": [
        "# Perform TextRank\n",
        "Input:\n",
        "* matrix_glove_corpus, or matrix_cui_corpus\n",
        "* original_corpus\n",
        "* clean_corpus\n",
        "\n",
        "Output:\n",
        "* glove_summary, or cui_summary"
      ]
    },
    {
      "cell_type": "code",
      "metadata": {
        "id": "gVrZ9TQHCxk6",
        "colab_type": "code",
        "colab": {}
      },
      "source": [
        "import networkx as nx"
      ],
      "execution_count": 0,
      "outputs": []
    },
    {
      "cell_type": "code",
      "metadata": {
        "id": "Jrs70NCHD3-F",
        "colab_type": "code",
        "colab": {}
      },
      "source": [
        "def textrank(sim_matrix, original_text, clean_text, top_n=5):\n",
        "  \"\"\"\n",
        "  Get the top_n sentences via textrank on the sim_matrix\n",
        "  select corresponding text from original_text (uncleaned sentence list)\n",
        "  \"\"\"\n",
        "  graph = nx.from_numpy_array(sim_matrix)\n",
        "  scores = nx.pagerank(graph) #each of the sentences, and corresponding score\n",
        "\n",
        "  ranked_sentences = sorted((\n",
        "      (scores[i],orig_sentence, clean_text[i], i) for i,orig_sentence in enumerate(original_text)), \n",
        "      reverse=True)\n",
        "  print(\"Summary:\")\n",
        "  for i in range(top_n):\n",
        "    print (ranked_sentences[i][1].strip()) #just print the sentence for viewing\n",
        "    #some original sentences still had \\n attached, so strip\n",
        "  return ranked_sentences\n"
      ],
      "execution_count": 0,
      "outputs": []
    },
    {
      "cell_type": "code",
      "metadata": {
        "id": "cW0V2zhKHRVO",
        "colab_type": "code",
        "colab": {}
      },
      "source": [
        "top_n = 5#len(original_abstract) #or 5"
      ],
      "execution_count": 0,
      "outputs": []
    },
    {
      "cell_type": "code",
      "metadata": {
        "id": "WVtZH-cBEwYD",
        "colab_type": "code",
        "outputId": "baf3e73a-a4d9-4be6-b9fc-1f68e03a157e",
        "colab": {
          "base_uri": "https://localhost:8080/",
          "height": 141
        }
      },
      "source": [
        "glove_summary = textrank(matrix_glove_corpus, original_corpus, clean_corpus, top_n=top_n)"
      ],
      "execution_count": 70,
      "outputs": [
        {
          "output_type": "stream",
          "text": [
            "Summary:\n",
            "Additionally, during training of the Faster-RCNN model, a class balance is performed using a mini-batch obtained from a single image, such that positive and negative anchors are obtained in a 1:1 ratio, and the loss function of the mini-batch is then computed[5]\n",
            "Although, the detection performance of the proposed framework is slightly lower, there is a difference in the number of images used and thus a one-to-one comparison is difficult to establish\n",
            "Moreover, it would be interesting to perform an observer study involving experienced radiologists (at least 2–3) and comparing their standalone performance results against the mass detection tool presented here\n",
            "In the following sections, the transfer learning methodology is used to fine-tune the Faster R-CNN model pre-trained on the OMI-H dataset to detect masses in small mammography datasets: OMI-G and INbreast\n",
            "This can be linked to the fact that a much larger dataset (10 times) of FFDMs, containing malignant masses, has been used to train the Faster R-CNN model compared to 222 FFDMs used for training the RetinaNet model in[21]\n"
          ],
          "name": "stdout"
        }
      ]
    },
    {
      "cell_type": "code",
      "metadata": {
        "id": "4hpKQCD_nRiy",
        "colab_type": "code",
        "colab": {}
      },
      "source": [
        ""
      ],
      "execution_count": 0,
      "outputs": []
    },
    {
      "cell_type": "markdown",
      "metadata": {
        "id": "w0y7zzotzlDN",
        "colab_type": "text"
      },
      "source": [
        "# Apply Cui2Vec to a Corpus\n",
        "\n",
        "Defined variables:\n",
        "* clean_corpus\n",
        "\n",
        "Output variables:\n",
        "* cui_summary"
      ]
    },
    {
      "cell_type": "markdown",
      "metadata": {
        "id": "VAvAfB7yvSf3",
        "colab_type": "text"
      },
      "source": [
        "## Install scispacy"
      ]
    },
    {
      "cell_type": "code",
      "metadata": {
        "id": "Pyg8VW-wzwOW",
        "colab_type": "code",
        "colab": {}
      },
      "source": [
        "#!pip install scispacy"
      ],
      "execution_count": 0,
      "outputs": []
    },
    {
      "cell_type": "code",
      "metadata": {
        "id": "NcjIqL2qq-5z",
        "colab_type": "code",
        "outputId": "51c25968-6624-44ba-9b3d-264cc4529f45",
        "colab": {
          "base_uri": "https://localhost:8080/",
          "height": 558
        }
      },
      "source": [
        "!pip install https://s3-us-west-2.amazonaws.com/ai2-s2-scispacy/releases/v0.2.4/en_core_sci_sm-0.2.4.tar.gz"
      ],
      "execution_count": 0,
      "outputs": [
        {
          "output_type": "stream",
          "text": [
            "Collecting https://s3-us-west-2.amazonaws.com/ai2-s2-scispacy/releases/v0.2.4/en_core_sci_sm-0.2.4.tar.gz\n",
            "\u001b[?25l  Downloading https://s3-us-west-2.amazonaws.com/ai2-s2-scispacy/releases/v0.2.4/en_core_sci_sm-0.2.4.tar.gz (17.0MB)\n",
            "\u001b[K     |████████████████████████████████| 17.0MB 1.2MB/s \n",
            "\u001b[?25hRequirement already satisfied: spacy>=2.2.1 in /usr/local/lib/python3.6/dist-packages (from en-core-sci-sm==0.2.4) (2.2.4)\n",
            "Requirement already satisfied: setuptools in /usr/local/lib/python3.6/dist-packages (from spacy>=2.2.1->en-core-sci-sm==0.2.4) (46.1.3)\n",
            "Requirement already satisfied: murmurhash<1.1.0,>=0.28.0 in /usr/local/lib/python3.6/dist-packages (from spacy>=2.2.1->en-core-sci-sm==0.2.4) (1.0.2)\n",
            "Requirement already satisfied: srsly<1.1.0,>=1.0.2 in /usr/local/lib/python3.6/dist-packages (from spacy>=2.2.1->en-core-sci-sm==0.2.4) (1.0.2)\n",
            "Requirement already satisfied: preshed<3.1.0,>=3.0.2 in /usr/local/lib/python3.6/dist-packages (from spacy>=2.2.1->en-core-sci-sm==0.2.4) (3.0.2)\n",
            "Requirement already satisfied: blis<0.5.0,>=0.4.0 in /usr/local/lib/python3.6/dist-packages (from spacy>=2.2.1->en-core-sci-sm==0.2.4) (0.4.1)\n",
            "Requirement already satisfied: cymem<2.1.0,>=2.0.2 in /usr/local/lib/python3.6/dist-packages (from spacy>=2.2.1->en-core-sci-sm==0.2.4) (2.0.3)\n",
            "Requirement already satisfied: tqdm<5.0.0,>=4.38.0 in /usr/local/lib/python3.6/dist-packages (from spacy>=2.2.1->en-core-sci-sm==0.2.4) (4.38.0)\n",
            "Requirement already satisfied: numpy>=1.15.0 in /usr/local/lib/python3.6/dist-packages (from spacy>=2.2.1->en-core-sci-sm==0.2.4) (1.18.3)\n",
            "Requirement already satisfied: catalogue<1.1.0,>=0.0.7 in /usr/local/lib/python3.6/dist-packages (from spacy>=2.2.1->en-core-sci-sm==0.2.4) (1.0.0)\n",
            "Requirement already satisfied: requests<3.0.0,>=2.13.0 in /usr/local/lib/python3.6/dist-packages (from spacy>=2.2.1->en-core-sci-sm==0.2.4) (2.21.0)\n",
            "Requirement already satisfied: plac<1.2.0,>=0.9.6 in /usr/local/lib/python3.6/dist-packages (from spacy>=2.2.1->en-core-sci-sm==0.2.4) (1.1.3)\n",
            "Requirement already satisfied: wasabi<1.1.0,>=0.4.0 in /usr/local/lib/python3.6/dist-packages (from spacy>=2.2.1->en-core-sci-sm==0.2.4) (0.6.0)\n",
            "Requirement already satisfied: thinc==7.4.0 in /usr/local/lib/python3.6/dist-packages (from spacy>=2.2.1->en-core-sci-sm==0.2.4) (7.4.0)\n",
            "Requirement already satisfied: importlib-metadata>=0.20; python_version < \"3.8\" in /usr/local/lib/python3.6/dist-packages (from catalogue<1.1.0,>=0.0.7->spacy>=2.2.1->en-core-sci-sm==0.2.4) (1.6.0)\n",
            "Requirement already satisfied: urllib3<1.25,>=1.21.1 in /usr/local/lib/python3.6/dist-packages (from requests<3.0.0,>=2.13.0->spacy>=2.2.1->en-core-sci-sm==0.2.4) (1.24.3)\n",
            "Requirement already satisfied: chardet<3.1.0,>=3.0.2 in /usr/local/lib/python3.6/dist-packages (from requests<3.0.0,>=2.13.0->spacy>=2.2.1->en-core-sci-sm==0.2.4) (3.0.4)\n",
            "Requirement already satisfied: idna<2.9,>=2.5 in /usr/local/lib/python3.6/dist-packages (from requests<3.0.0,>=2.13.0->spacy>=2.2.1->en-core-sci-sm==0.2.4) (2.8)\n",
            "Requirement already satisfied: certifi>=2017.4.17 in /usr/local/lib/python3.6/dist-packages (from requests<3.0.0,>=2.13.0->spacy>=2.2.1->en-core-sci-sm==0.2.4) (2020.4.5.1)\n",
            "Requirement already satisfied: zipp>=0.5 in /usr/local/lib/python3.6/dist-packages (from importlib-metadata>=0.20; python_version < \"3.8\"->catalogue<1.1.0,>=0.0.7->spacy>=2.2.1->en-core-sci-sm==0.2.4) (3.1.0)\n",
            "Building wheels for collected packages: en-core-sci-sm\n",
            "  Building wheel for en-core-sci-sm (setup.py) ... \u001b[?25l\u001b[?25hdone\n",
            "  Created wheel for en-core-sci-sm: filename=en_core_sci_sm-0.2.4-cp36-none-any.whl size=17161110 sha256=af97a07e597b77fed59ab4a1a0bdf03a10a4fa40708d47a63f7bb8e4f595d7ac\n",
            "  Stored in directory: /root/.cache/pip/wheels/34/60/b9/fabd9c3eeba17ed66df745479f2fc502a6702755cb4a9632f2\n",
            "Successfully built en-core-sci-sm\n",
            "Installing collected packages: en-core-sci-sm\n",
            "Successfully installed en-core-sci-sm-0.2.4\n"
          ],
          "name": "stdout"
        }
      ]
    },
    {
      "cell_type": "code",
      "metadata": {
        "id": "PPJ7xthGrE50",
        "colab_type": "code",
        "outputId": "c65fedf5-6733-4e83-8d99-219732906ae0",
        "colab": {
          "base_uri": "https://localhost:8080/",
          "height": 384
        }
      },
      "source": [
        "!pip install -U spacy"
      ],
      "execution_count": 0,
      "outputs": [
        {
          "output_type": "stream",
          "text": [
            "Requirement already up-to-date: spacy in /usr/local/lib/python3.6/dist-packages (2.2.4)\n",
            "Requirement already satisfied, skipping upgrade: blis<0.5.0,>=0.4.0 in /usr/local/lib/python3.6/dist-packages (from spacy) (0.4.1)\n",
            "Requirement already satisfied, skipping upgrade: murmurhash<1.1.0,>=0.28.0 in /usr/local/lib/python3.6/dist-packages (from spacy) (1.0.2)\n",
            "Requirement already satisfied, skipping upgrade: srsly<1.1.0,>=1.0.2 in /usr/local/lib/python3.6/dist-packages (from spacy) (1.0.2)\n",
            "Requirement already satisfied, skipping upgrade: setuptools in /usr/local/lib/python3.6/dist-packages (from spacy) (46.1.3)\n",
            "Requirement already satisfied, skipping upgrade: requests<3.0.0,>=2.13.0 in /usr/local/lib/python3.6/dist-packages (from spacy) (2.21.0)\n",
            "Requirement already satisfied, skipping upgrade: plac<1.2.0,>=0.9.6 in /usr/local/lib/python3.6/dist-packages (from spacy) (1.1.3)\n",
            "Requirement already satisfied, skipping upgrade: wasabi<1.1.0,>=0.4.0 in /usr/local/lib/python3.6/dist-packages (from spacy) (0.6.0)\n",
            "Requirement already satisfied, skipping upgrade: numpy>=1.15.0 in /usr/local/lib/python3.6/dist-packages (from spacy) (1.18.3)\n",
            "Requirement already satisfied, skipping upgrade: catalogue<1.1.0,>=0.0.7 in /usr/local/lib/python3.6/dist-packages (from spacy) (1.0.0)\n",
            "Requirement already satisfied, skipping upgrade: cymem<2.1.0,>=2.0.2 in /usr/local/lib/python3.6/dist-packages (from spacy) (2.0.3)\n",
            "Requirement already satisfied, skipping upgrade: thinc==7.4.0 in /usr/local/lib/python3.6/dist-packages (from spacy) (7.4.0)\n",
            "Requirement already satisfied, skipping upgrade: tqdm<5.0.0,>=4.38.0 in /usr/local/lib/python3.6/dist-packages (from spacy) (4.38.0)\n",
            "Requirement already satisfied, skipping upgrade: preshed<3.1.0,>=3.0.2 in /usr/local/lib/python3.6/dist-packages (from spacy) (3.0.2)\n",
            "Requirement already satisfied, skipping upgrade: chardet<3.1.0,>=3.0.2 in /usr/local/lib/python3.6/dist-packages (from requests<3.0.0,>=2.13.0->spacy) (3.0.4)\n",
            "Requirement already satisfied, skipping upgrade: urllib3<1.25,>=1.21.1 in /usr/local/lib/python3.6/dist-packages (from requests<3.0.0,>=2.13.0->spacy) (1.24.3)\n",
            "Requirement already satisfied, skipping upgrade: idna<2.9,>=2.5 in /usr/local/lib/python3.6/dist-packages (from requests<3.0.0,>=2.13.0->spacy) (2.8)\n",
            "Requirement already satisfied, skipping upgrade: certifi>=2017.4.17 in /usr/local/lib/python3.6/dist-packages (from requests<3.0.0,>=2.13.0->spacy) (2020.4.5.1)\n",
            "Requirement already satisfied, skipping upgrade: importlib-metadata>=0.20; python_version < \"3.8\" in /usr/local/lib/python3.6/dist-packages (from catalogue<1.1.0,>=0.0.7->spacy) (1.6.0)\n",
            "Requirement already satisfied, skipping upgrade: zipp>=0.5 in /usr/local/lib/python3.6/dist-packages (from importlib-metadata>=0.20; python_version < \"3.8\"->catalogue<1.1.0,>=0.0.7->spacy) (3.1.0)\n"
          ],
          "name": "stdout"
        }
      ]
    },
    {
      "cell_type": "code",
      "metadata": {
        "id": "0WJsA8PfrFxE",
        "colab_type": "code",
        "colab": {}
      },
      "source": [
        "import spacy\n",
        "import scispacy\n",
        "import en_core_sci_sm   #The model we are going to use\n",
        "from spacy import displacy\n",
        "from scispacy.abbreviation import AbbreviationDetector\n",
        "from scispacy.umls_linking import UmlsEntityLinker"
      ],
      "execution_count": 0,
      "outputs": []
    },
    {
      "cell_type": "code",
      "metadata": {
        "id": "tFSNFQ-ZrTko",
        "colab_type": "code",
        "outputId": "a99a8b9d-f643-4daf-fda9-fc5c4929161c",
        "colab": {
          "base_uri": "https://localhost:8080/",
          "height": 315
        }
      },
      "source": [
        "nlp_reader = en_core_sci_sm.load()\n",
        "cui_linker = UmlsEntityLinker(resolve_abbreviations=True)\n",
        "nlp_reader.add_pipe(cui_linker) # Each entity is linked to UMLS with a score# (currently just char-3gram matching)."
      ],
      "execution_count": 0,
      "outputs": [
        {
          "output_type": "stream",
          "text": [
            "https://s3-us-west-2.amazonaws.com/ai2-s2-scispacy/data/linking_model/tfidf_vectors_sparse.npz not found in cache, downloading to /tmp/tmppjfsc9eo\n",
            "Finished download, copying /tmp/tmppjfsc9eo to cache at /root/.scispacy/datasets/ea855fd121a193f03190a91417c209d4cd97e63d3ce4b456c248ef7c13a4ca77.03518aabd12de2103a27a50302f37c3d87b0f313a8be08b5ec306c9c4334b9b1.tfidf_vectors_sparse.npz\n",
            "https://s3-us-west-2.amazonaws.com/ai2-s2-scispacy/data/linking_model/nmslib_index.bin not found in cache, downloading to /tmp/tmp23wiyknd\n",
            "Finished download, copying /tmp/tmp23wiyknd to cache at /root/.scispacy/datasets/5f620d1bd549a98c005ed601a73806ea2cd1a86ae6c54bbc62bcb3b452ca2630.27a7ac6807fde6628311ff7d70b86fefc640d0eb70637b544c591722a2c16c2a.nmslib_index.bin\n",
            "https://s3-us-west-2.amazonaws.com/ai2-s2-scispacy/data/linking_model/tfidf_vectorizer.joblib not found in cache, downloading to /tmp/tmpb8n37ehm\n",
            "Finished download, copying /tmp/tmpb8n37ehm to cache at /root/.scispacy/datasets/ffb7a77cdcb3c9233c1e4009c69f38efc13c3619238c508459b5f03fd5f14e4b.9e501319abafbe723d25f1737402d504af6f198fb43b96c85692fa0f9ddc5516.tfidf_vectorizer.joblib\n"
          ],
          "name": "stdout"
        },
        {
          "output_type": "stream",
          "text": [
            "/usr/local/lib/python3.6/dist-packages/sklearn/base.py:318: UserWarning: Trying to unpickle estimator TfidfTransformer from version 0.20.3 when using version 0.22.2.post1. This might lead to breaking code or invalid results. Use at your own risk.\n",
            "  UserWarning)\n",
            "/usr/local/lib/python3.6/dist-packages/sklearn/base.py:318: UserWarning: Trying to unpickle estimator TfidfVectorizer from version 0.20.3 when using version 0.22.2.post1. This might lead to breaking code or invalid results. Use at your own risk.\n",
            "  UserWarning)\n"
          ],
          "name": "stderr"
        },
        {
          "output_type": "stream",
          "text": [
            "https://s3-us-west-2.amazonaws.com/ai2-s2-scispacy/data/linking_model/concept_aliases.json not found in cache, downloading to /tmp/tmpv2nvemq8\n",
            "Finished download, copying /tmp/tmpv2nvemq8 to cache at /root/.scispacy/datasets/0f064d20aefab965d5772b2100f8436b3541e7d5313c76cfe5fe070902f149fe.31df9cdb04729860a81bd6c980224ed2bff582586c398d0c9b96ae4e257b9da2.concept_aliases.json\n",
            "https://s3-us-west-2.amazonaws.com/ai2-s2-scispacy/data/umls_2017_aa_cat0129.json not found in cache, downloading to /tmp/tmpbv5fyofe\n",
            "Finished download, copying /tmp/tmpbv5fyofe to cache at /root/.scispacy/datasets/13b30cd31cd37c1b52f3df6ea023061172d16e9941660e677fdbb29489af7410.4ad71d86ce780e00cab131c7e3b81acfd2f11dd80ccd61125c8bcde506f2ab8a.umls_2017_aa_cat0129.json\n",
            "https://s3-us-west-2.amazonaws.com/ai2-s2-scispacy/data/umls_semantic_type_tree.tsv not found in cache, downloading to /tmp/tmp7ap74yt8\n",
            "Finished download, copying /tmp/tmp7ap74yt8 to cache at /root/.scispacy/datasets/21a1012c532c3a431d60895c509f5b4d45b0f8966c4178b892190a302b21836f.330707f4efe774134872b9f77f0e3208c1d30f50800b3b39a6b8ec21d9adf1b7.umls_semantic_type_tree.tsv\n"
          ],
          "name": "stdout"
        }
      ]
    },
    {
      "cell_type": "markdown",
      "metadata": {
        "id": "w9lB9Ae0rg6e",
        "colab_type": "text"
      },
      "source": [
        "## Load cui2vec"
      ]
    },
    {
      "cell_type": "code",
      "metadata": {
        "id": "YxkH4dPUriNv",
        "colab_type": "code",
        "outputId": "24bf24ec-6d1e-4b27-f0b9-557c8ce345f9",
        "colab": {
          "base_uri": "https://localhost:8080/",
          "height": 315
        }
      },
      "source": [
        "!wget https://ndownloader.figshare.com/files/10959626?private_link=00d69861786cd0156d81 -O cui2vec_pretrained.csv.zip"
      ],
      "execution_count": 0,
      "outputs": [
        {
          "output_type": "stream",
          "text": [
            "--2020-04-29 13:59:10--  https://ndownloader.figshare.com/files/10959626?private_link=00d69861786cd0156d81\n",
            "Resolving ndownloader.figshare.com (ndownloader.figshare.com)... 18.200.62.117, 34.249.140.248, 52.17.144.100, ...\n",
            "Connecting to ndownloader.figshare.com (ndownloader.figshare.com)|18.200.62.117|:443... connected.\n",
            "HTTP request sent, awaiting response... 302 Found\n",
            "Location: https://s3-eu-west-1.amazonaws.com/pfigshare-u-files/10959626/cui2vec_pretrained.csv.zip [following]\n",
            "--2020-04-29 13:59:12--  https://s3-eu-west-1.amazonaws.com/pfigshare-u-files/10959626/cui2vec_pretrained.csv.zip\n",
            "Resolving s3-eu-west-1.amazonaws.com (s3-eu-west-1.amazonaws.com)... 52.218.97.162\n",
            "Connecting to s3-eu-west-1.amazonaws.com (s3-eu-west-1.amazonaws.com)|52.218.97.162|:443... connected.\n",
            "HTTP request sent, awaiting response... 200 OK\n",
            "Length: 482307559 (460M) [binary/octet-stream]\n",
            "Saving to: ‘cui2vec_pretrained.csv.zip’\n",
            "\n",
            "cui2vec_pretrained. 100%[===================>] 459.96M  11.8MB/s    in 41s     \n",
            "\n",
            "2020-04-29 13:59:54 (11.1 MB/s) - ‘cui2vec_pretrained.csv.zip’ saved [482307559/482307559]\n",
            "\n"
          ],
          "name": "stdout"
        }
      ]
    },
    {
      "cell_type": "code",
      "metadata": {
        "id": "D5mJsK-Yrjp0",
        "colab_type": "code",
        "outputId": "5935c97b-810d-4871-f4a4-fc7a889014b9",
        "colab": {
          "base_uri": "https://localhost:8080/",
          "height": 86
        }
      },
      "source": [
        "!unzip cui2vec_pretrained.csv.zip #or try taking out the .zip"
      ],
      "execution_count": 0,
      "outputs": [
        {
          "output_type": "stream",
          "text": [
            "Archive:  cui2vec_pretrained.csv.zip\n",
            "  inflating: cui2vec_pretrained.csv  \n",
            "   creating: __MACOSX/\n",
            "  inflating: __MACOSX/._cui2vec_pretrained.csv  \n"
          ],
          "name": "stdout"
        }
      ]
    },
    {
      "cell_type": "code",
      "metadata": {
        "id": "VJ1v9ivurk3R",
        "colab_type": "code",
        "colab": {}
      },
      "source": [
        "import numpy as np\n",
        "import pandas as pd\n",
        "embeddings = pd.read_csv(\"cui2vec_pretrained.csv\")"
      ],
      "execution_count": 0,
      "outputs": []
    },
    {
      "cell_type": "code",
      "metadata": {
        "id": "tLtU36O2sw0V",
        "colab_type": "code",
        "colab": {}
      },
      "source": [
        "def word_list_to_sent_list(clean_text):\n",
        "  \"\"\"\n",
        "  converts to format where each entry of list is a sentence\n",
        "  \"\"\"\n",
        "  output = []\n",
        "  for sentence in clean_text:\n",
        "    if len(sentence) == 0:\n",
        "      output.append('')\n",
        "    else:\n",
        "      output.append(' '.join(sentence))\n",
        "  return output"
      ],
      "execution_count": 0,
      "outputs": []
    },
    {
      "cell_type": "markdown",
      "metadata": {
        "id": "OoXMhjR0uufi",
        "colab_type": "text"
      },
      "source": [
        "## Find entities in each sentence"
      ]
    },
    {
      "cell_type": "code",
      "metadata": {
        "id": "UNCDYvidr5h5",
        "colab_type": "code",
        "colab": {}
      },
      "source": [
        "def clean_sent_list_to_ent_list(clean_sentence_list):\n",
        "  \"\"\"\n",
        "  Takes clean sentence list, such as ['sentence is here', 'sentence is here'].\n",
        "  Note this isn't quite the same as clean_corpus, where each sentence is further a list of words.\n",
        "  \"\"\"\n",
        "  sent_list = []\n",
        "  for s in clean_sentence_list:\n",
        "    sent_list.append(list(nlp_reader(s).ents)) #might be blank.\n",
        "  return sent_list"
      ],
      "execution_count": 0,
      "outputs": []
    },
    {
      "cell_type": "markdown",
      "metadata": {
        "id": "wf6kcLLYw5mv",
        "colab_type": "text"
      },
      "source": [
        "## Entity to vector"
      ]
    },
    {
      "cell_type": "code",
      "metadata": {
        "id": "wjVys6vDw5DB",
        "colab_type": "code",
        "colab": {}
      },
      "source": [
        "def ent_to_vec(entity, cap = 3):\n",
        "  vecsum = np.zeros((500,))\n",
        "  maxrange = min(cap, len(entity._.umls_ents))\n",
        "  for i in range(maxrange):\n",
        "    cuii, scorei = entity._.umls_ents[i]\n",
        "    v = cui_to_vec(cuii)\n",
        "    vecsum += scorei*v\n",
        "  if maxrange > 0:\n",
        "    return vecsum/maxrange \n",
        "  return np.zeros((500,)) # if maxrange is 0, then just return\n",
        "  #return np.mean(vecs, axis=0)"
      ],
      "execution_count": 0,
      "outputs": []
    },
    {
      "cell_type": "markdown",
      "metadata": {
        "id": "mBpG3IN6uyOB",
        "colab_type": "text"
      },
      "source": [
        "## Convert a cui to vector representation"
      ]
    },
    {
      "cell_type": "code",
      "metadata": {
        "id": "i-pGjDaurmvO",
        "colab_type": "code",
        "colab": {}
      },
      "source": [
        "def cui_to_vec(cui):\n",
        "  cui = str(cui).upper()\n",
        "  s = embeddings.loc[embeddings['Unnamed: 0'] == cui] #make sure to run embeddings = pd.read_csv...\n",
        "  vec = s.drop(\"Unnamed: 0\", axis=1)\n",
        "  if s.shape[0] == 0: #if not available cui, then return 0 (i.e. 0 rows)\n",
        "    return np.zeros((500,))\n",
        "  return np.array(vec).ravel()"
      ],
      "execution_count": 0,
      "outputs": []
    },
    {
      "cell_type": "markdown",
      "metadata": {
        "id": "5ubLKNeOu9if",
        "colab_type": "text"
      },
      "source": [
        "## Convert sentence list to vector list"
      ]
    },
    {
      "cell_type": "code",
      "metadata": {
        "id": "a38zTbZirv9x",
        "colab_type": "code",
        "colab": {}
      },
      "source": [
        "def entList_to_vec(ent_list):\n",
        " # if len(ent_list) == 0:\n",
        "  #  return np.zeros()\n",
        "  outputsum = np.zeros((500,))\n",
        "  nonzero_count = 0\n",
        "  for ent in ent_list:\n",
        "    v = ent_to_vec(ent)\n",
        "    if np.sum(v) == 0:\n",
        "      continue\n",
        "    nonzero_count += 1\n",
        "    outputsum += v\n",
        "  if nonzero_count == 0:\n",
        "    return np.zeros((500,))\n",
        "  return outputsum/nonzero_count"
      ],
      "execution_count": 0,
      "outputs": []
    },
    {
      "cell_type": "code",
      "metadata": {
        "id": "BWCg0xKar0DK",
        "colab_type": "code",
        "colab": {}
      },
      "source": [
        "def sentList_to_vecList(sent_list):\n",
        "  vec_list = []\n",
        "  for ent_list in sent_list:\n",
        "    vec_list.append(entList_to_vec(ent_list))\n",
        "  return vec_list"
      ],
      "execution_count": 0,
      "outputs": []
    },
    {
      "cell_type": "code",
      "metadata": {
        "id": "ZIiz1Zm7yLs5",
        "colab_type": "code",
        "colab": {}
      },
      "source": [
        "entity_list_list = clean_sent_list_to_ent_list(word_list_to_sent_list(clean_corpus))"
      ],
      "execution_count": 0,
      "outputs": []
    },
    {
      "cell_type": "code",
      "metadata": {
        "id": "rOHeR9Kjr1mV",
        "colab_type": "code",
        "colab": {}
      },
      "source": [
        "vec_cui_corpus = sentList_to_vecList(entity_list_list)"
      ],
      "execution_count": 0,
      "outputs": []
    },
    {
      "cell_type": "markdown",
      "metadata": {
        "id": "OeDNaJfmuOhW",
        "colab_type": "text"
      },
      "source": [
        "## Similarity Matrix"
      ]
    },
    {
      "cell_type": "code",
      "metadata": {
        "id": "fGamXPeSuRSk",
        "colab_type": "code",
        "colab": {}
      },
      "source": [
        "matrix_cui_corpus = get_sim_matrix(vec_cui_corpus, 500)"
      ],
      "execution_count": 0,
      "outputs": []
    },
    {
      "cell_type": "markdown",
      "metadata": {
        "id": "qpjpDBUFuFYq",
        "colab_type": "text"
      },
      "source": [
        "## Perform TextRank"
      ]
    },
    {
      "cell_type": "code",
      "metadata": {
        "id": "rA99FbmrHI_-",
        "colab_type": "code",
        "colab": {}
      },
      "source": [
        "top_n = 5#len(original_abstract) # can use 5"
      ],
      "execution_count": 0,
      "outputs": []
    },
    {
      "cell_type": "code",
      "metadata": {
        "id": "8RSvrnrruICW",
        "colab_type": "code",
        "outputId": "89793a10-03c8-47b9-ceaa-fc0dea3c9af7",
        "colab": {
          "base_uri": "https://localhost:8080/",
          "height": 141
        }
      },
      "source": [
        "cui_summary = textrank(matrix_cui_corpus, original_corpus, clean_corpus, top_n=top_n)"
      ],
      "execution_count": 74,
      "outputs": [
        {
          "output_type": "stream",
          "text": [
            "Summary:\n",
            "In this paper, the transfer learning methodology is used to fine-tune the Faster R-CNN model pre-trained on a large mammography dataset (OMI-H) to detect masses in small mammography datasets (OMI-G and INbreast) obtained using different scanners\n",
            "Thereafter, the anchors or bounding boxes are created to generate region proposals of varying shapes and sizes, and are given an objectness score signifying how accurately they are enclosing a mass on the mammogram\n",
            "The pre-trained Faster R-CNN model is fine-tuned using a training set of 5316 processed mammograms acquired using the Hologic scanner (OMI-H)\n",
            "These results suggest the proposed framework is able to detect masses with a reduced number of false positives and false negatives, demonstrating its potential use as a part of a CAD system to aid radiologists in the detection of breast cancers\n",
            "Additionally, in mammography, some authors have also proposed the use of traditional machine learning based on handcrafted feature to classify masses[11], [12], [13], [14]\n"
          ],
          "name": "stdout"
        }
      ]
    },
    {
      "cell_type": "markdown",
      "metadata": {
        "id": "gGgln_vKzx5l",
        "colab_type": "text"
      },
      "source": [
        "# Evaluate summary against abstract\n",
        "Defined variables:\n",
        "* original_abstract\n",
        "* clean_abstract\n",
        "* glove_summary\n",
        "* cui_summary\n",
        "\n",
        "Output variables:\n",
        "\n",
        "ROUGE n-gram implementation"
      ]
    },
    {
      "cell_type": "markdown",
      "metadata": {
        "id": "Fmw33jSLGUFU",
        "colab_type": "text"
      },
      "source": [
        "## Direct comparison by eye"
      ]
    },
    {
      "cell_type": "code",
      "metadata": {
        "id": "o8ON81YPG8Jr",
        "colab_type": "code",
        "colab": {}
      },
      "source": [
        "top_n = 5#len(original_abstract)"
      ],
      "execution_count": 0,
      "outputs": []
    },
    {
      "cell_type": "code",
      "metadata": {
        "id": "iKsRzHmeE9Bg",
        "colab_type": "code",
        "colab": {}
      },
      "source": [
        "def direct_comparison(summary, abstract, top_n=5):\n",
        "  summary_string = ''\n",
        "  for _,_,_,i in summary[0:top_n]:\n",
        "    summary_string += original_corpus[i].strip() + '. '\n",
        "  abstract_string = '. '.join(abstract)\n",
        "  return summary_string, abstract_string"
      ],
      "execution_count": 0,
      "outputs": []
    },
    {
      "cell_type": "code",
      "metadata": {
        "id": "y4_e_j3XFZ_o",
        "colab_type": "code",
        "colab": {}
      },
      "source": [
        "s_cui,a = direct_comparison(cui_summary, original_abstract, top_n=top_n)"
      ],
      "execution_count": 0,
      "outputs": []
    },
    {
      "cell_type": "code",
      "metadata": {
        "id": "I8IArQcsGJro",
        "colab_type": "code",
        "outputId": "0a92d292-0964-402a-dd41-1eaf30f88ca9",
        "colab": {
          "base_uri": "https://localhost:8080/",
          "height": 54
        }
      },
      "source": [
        "print(s_cui) #print generated summary"
      ],
      "execution_count": 76,
      "outputs": [
        {
          "output_type": "stream",
          "text": [
            "In this paper, the transfer learning methodology is used to fine-tune the Faster R-CNN model pre-trained on a large mammography dataset (OMI-H) to detect masses in small mammography datasets (OMI-G and INbreast) obtained using different scanners. Thereafter, the anchors or bounding boxes are created to generate region proposals of varying shapes and sizes, and are given an objectness score signifying how accurately they are enclosing a mass on the mammogram. The pre-trained Faster R-CNN model is fine-tuned using a training set of 5316 processed mammograms acquired using the Hologic scanner (OMI-H). These results suggest the proposed framework is able to detect masses with a reduced number of false positives and false negatives, demonstrating its potential use as a part of a CAD system to aid radiologists in the detection of breast cancers. Additionally, in mammography, some authors have also proposed the use of traditional machine learning based on handcrafted feature to classify masses[11], [12], [13], [14]. \n"
          ],
          "name": "stdout"
        }
      ]
    },
    {
      "cell_type": "code",
      "metadata": {
        "id": "jG9DCnWGGRTM",
        "colab_type": "code",
        "outputId": "6e3df377-779b-4c76-e28c-8fbd4652da45",
        "colab": {
          "base_uri": "https://localhost:8080/",
          "height": 54
        }
      },
      "source": [
        "print(a) #print abstract"
      ],
      "execution_count": 77,
      "outputs": [
        {
          "output_type": "stream",
          "text": [
            "In recent years, the use of Convolutional Neural Networks (CNNs) in medical imaging has shown improved performance in terms of mass detection and classification compared to current state-of-the-art methods.  This paper proposes a fully automated framework to detect masses in Full-Field Digital Mammograms (FFDM).  This is based on the Faster Region-based Convolutional Neural Network (Faster-RCNN) model and is applied for detecting masses in the large-scale OPTIMAM Mammography Image Database (OMI-DB), which consists of ∼80,000 FFDMs mainly from Hologic and General Electric (GE) scanners.  This research is the first to benchmark the performance of deep learning on OMI-DB.  The proposed framework obtained a True Positive Rate (TPR) of 0. 93 at 0. 78 False Positive per Image (FPI) on FFDMs from the Hologic scanner.  Transfer learning is then used in the Faster R-CNN model trained on Hologic images to detect masses in smaller databases containing FFDMs from the GE scanner and another public dataset INbreast (Siemens scanner).  The detection framework obtained a TPR of 0. 91±0. 06 at 1. 69 FPI for images from the GE scanner and also showed higher performance compared to state-of-the-art methods on the INbreast dataset, obtaining a TPR of 0. 99±0. 03 at 1. 17 FPI for malignant and 0. 85±0. 08 at 1. 0 FPI for benign masses, showing the potential to be used as part of an advanced CAD system for breast cancer screening. \n"
          ],
          "name": "stdout"
        }
      ]
    },
    {
      "cell_type": "code",
      "metadata": {
        "id": "FvGyDFYpGW37",
        "colab_type": "code",
        "colab": {}
      },
      "source": [
        "s_glove,a = direct_comparison(glove_summary, original_abstract)"
      ],
      "execution_count": 0,
      "outputs": []
    },
    {
      "cell_type": "code",
      "metadata": {
        "id": "aU_Mt8omGeih",
        "colab_type": "code",
        "outputId": "af1fe749-6c99-482b-d492-4834ec028f6f",
        "colab": {
          "base_uri": "https://localhost:8080/",
          "height": 54
        }
      },
      "source": [
        "print(s_glove)"
      ],
      "execution_count": 79,
      "outputs": [
        {
          "output_type": "stream",
          "text": [
            "Additionally, during training of the Faster-RCNN model, a class balance is performed using a mini-batch obtained from a single image, such that positive and negative anchors are obtained in a 1:1 ratio, and the loss function of the mini-batch is then computed[5]. Although, the detection performance of the proposed framework is slightly lower, there is a difference in the number of images used and thus a one-to-one comparison is difficult to establish. Moreover, it would be interesting to perform an observer study involving experienced radiologists (at least 2–3) and comparing their standalone performance results against the mass detection tool presented here. In the following sections, the transfer learning methodology is used to fine-tune the Faster R-CNN model pre-trained on the OMI-H dataset to detect masses in small mammography datasets: OMI-G and INbreast. This can be linked to the fact that a much larger dataset (10 times) of FFDMs, containing malignant masses, has been used to train the Faster R-CNN model compared to 222 FFDMs used for training the RetinaNet model in[21]. \n"
          ],
          "name": "stdout"
        }
      ]
    },
    {
      "cell_type": "markdown",
      "metadata": {
        "id": "HCq6qemm2kX6",
        "colab_type": "text"
      },
      "source": [
        "## Rouge"
      ]
    },
    {
      "cell_type": "code",
      "metadata": {
        "id": "qThwO2mN3Qoj",
        "colab_type": "code",
        "outputId": "a3cc4599-bc85-4dd8-d40a-4ff48467bf43",
        "colab": {
          "base_uri": "https://localhost:8080/",
          "height": 106
        }
      },
      "source": [
        "!pip install easy-rouge"
      ],
      "execution_count": 0,
      "outputs": [
        {
          "output_type": "stream",
          "text": [
            "Collecting easy-rouge\n",
            "  Downloading https://files.pythonhosted.org/packages/0c/0a/b7ebb887dac3ece27fffc65bbc7dc0abcf991f2ccce8073126329ce4be8f/easy_rouge-0.2.2-py3-none-any.whl\n",
            "Installing collected packages: easy-rouge\n",
            "Successfully installed easy-rouge-0.2.2\n"
          ],
          "name": "stdout"
        }
      ]
    },
    {
      "cell_type": "code",
      "metadata": {
        "id": "6wb3G0TP21F4",
        "colab_type": "code",
        "colab": {}
      },
      "source": [
        "from rouge.rouge import rouge_n_summary_level"
      ],
      "execution_count": 0,
      "outputs": []
    },
    {
      "cell_type": "code",
      "metadata": {
        "id": "i9tHsaX5nvxl",
        "colab_type": "code",
        "colab": {}
      },
      "source": [
        "def clean_summary_only(summary, top_n=5):\n",
        "  \"\"\"\n",
        "  Extract only the clean summary sentences\n",
        "  summary: [ (score, orig sentence, clean sentence, index), ...]\n",
        "  \"\"\"\n",
        "  top_n = min(top_n, len(summary))\n",
        "  return [summary[i][2] for i in range(top_n)]"
      ],
      "execution_count": 0,
      "outputs": []
    },
    {
      "cell_type": "code",
      "metadata": {
        "id": "sfxZ2flk5Wca",
        "colab_type": "code",
        "colab": {}
      },
      "source": [
        "def flatten_sentence_list(sentence_list):\n",
        "  \"\"\"\n",
        "  joins all the words in sentence list into a single string\n",
        "  \"\"\"\n",
        "  output = ''\n",
        "  for sentence in sentence_list:\n",
        "    output += ' '.join(sentence) + '. '\n",
        "  return output"
      ],
      "execution_count": 0,
      "outputs": []
    },
    {
      "cell_type": "code",
      "metadata": {
        "id": "zXOmNFaL5vHT",
        "colab_type": "code",
        "colab": {}
      },
      "source": [
        "def rouge(summary, abstract):\n",
        "  # make sure theyre flattened to a single string\n",
        "  flat_summary = flatten_sentence_list(summary)\n",
        "  flat_abstract = flatten_sentence_list(abstract)\n",
        "  recall, precision, fscore = rouge_n_summary_level(flat_summary, flat_abstract, 1)\n",
        "  print('ROUGE-1-R', recall)\n",
        "  print('ROUGE-1-P', precision)\n",
        "  print('ROUGE-1-F', fscore)"
      ],
      "execution_count": 0,
      "outputs": []
    },
    {
      "cell_type": "code",
      "metadata": {
        "id": "1cMTWKEhnwoj",
        "colab_type": "code",
        "colab": {}
      },
      "source": [
        "# get the summary words only\n",
        "clean_cui_summary = clean_summary_only(cui_summary)\n",
        "clean_glove_summary = clean_summary_only(glove_summary)"
      ],
      "execution_count": 0,
      "outputs": []
    },
    {
      "cell_type": "code",
      "metadata": {
        "id": "PLNj5LMv5-uw",
        "colab_type": "code",
        "outputId": "1c077cb1-10b1-4601-d135-11b80322ae15",
        "colab": {
          "base_uri": "https://localhost:8080/",
          "height": 69
        }
      },
      "source": [
        "# apply rouge to compare\n",
        "rouge(clean_cui_summary, clean_abstract)"
      ],
      "execution_count": 81,
      "outputs": [
        {
          "output_type": "stream",
          "text": [
            "ROUGE-1-R 0.7276084949215144\n",
            "ROUGE-1-P 0.9692496924969249\n",
            "ROUGE-1-F 0.8312236286919832\n"
          ],
          "name": "stdout"
        }
      ]
    },
    {
      "cell_type": "code",
      "metadata": {
        "id": "pQ4nsSWTCa_q",
        "colab_type": "code",
        "outputId": "d3de1c87-05b1-42df-e864-a9bfd732fdda",
        "colab": {
          "base_uri": "https://localhost:8080/",
          "height": 69
        }
      },
      "source": [
        "rouge(clean_glove_summary, clean_abstract)"
      ],
      "execution_count": 82,
      "outputs": [
        {
          "output_type": "stream",
          "text": [
            "ROUGE-1-R 0.739612188365651\n",
            "ROUGE-1-P 0.9816176470588235\n",
            "ROUGE-1-F 0.8436018957345971\n"
          ],
          "name": "stdout"
        }
      ]
    },
    {
      "cell_type": "markdown",
      "metadata": {
        "id": "hTlktcKAmZMv",
        "colab_type": "text"
      },
      "source": [
        "## Histogram of scores"
      ]
    },
    {
      "cell_type": "code",
      "metadata": {
        "id": "CGR73H7-0ZXW",
        "colab_type": "code",
        "colab": {}
      },
      "source": [
        "import matplotlib.pyplot as plt"
      ],
      "execution_count": 0,
      "outputs": []
    },
    {
      "cell_type": "code",
      "metadata": {
        "id": "2jM9IOVfzpzX",
        "colab_type": "code",
        "colab": {}
      },
      "source": [
        "# how many are zeros (e.g. in matrix also)"
      ],
      "execution_count": 0,
      "outputs": []
    },
    {
      "cell_type": "code",
      "metadata": {
        "id": "LGo5X9710Ops",
        "colab_type": "code",
        "colab": {}
      },
      "source": [
        "def scores(summary):\n",
        "  return [summary[i][0] for i in range(len(summary))]"
      ],
      "execution_count": 0,
      "outputs": []
    },
    {
      "cell_type": "code",
      "metadata": {
        "id": "-EwrdM610V3V",
        "colab_type": "code",
        "colab": {}
      },
      "source": [
        "cui_scores = scores(cui_summary)\n",
        "glove_scores = scores(glove_summary)"
      ],
      "execution_count": 0,
      "outputs": []
    },
    {
      "cell_type": "code",
      "metadata": {
        "id": "Ubgcee0w03UN",
        "colab_type": "code",
        "outputId": "9b4223f3-6525-4ee0-d5b7-38307bc83313",
        "colab": {
          "base_uri": "https://localhost:8080/",
          "height": 352
        }
      },
      "source": [
        "plt.hist(glove_scores)"
      ],
      "execution_count": 84,
      "outputs": [
        {
          "output_type": "execute_result",
          "data": {
            "text/plain": [
              "(array([215.,   0.,   0.,   1.,   2.,   5.,   7.,  32.,  77., 155.]),\n",
              " array([0.00048247, 0.00079248, 0.0011025 , 0.00141251, 0.00172252,\n",
              "        0.00203254, 0.00234255, 0.00265256, 0.00296258, 0.00327259,\n",
              "        0.00358261]),\n",
              " <a list of 10 Patch objects>)"
            ]
          },
          "metadata": {
            "tags": []
          },
          "execution_count": 84
        },
        {
          "output_type": "display_data",
          "data": {
            "image/png": "[encoded data removed]",
            "text/plain": [
              "<Figure size 432x288 with 1 Axes>"
            ]
          },
          "metadata": {
            "tags": [],
            "needs_background": "light"
          }
        }
      ]
    },
    {
      "cell_type": "code",
      "metadata": {
        "id": "lhMrrTJ80j-w",
        "colab_type": "code",
        "outputId": "8443aa12-931d-49d1-fd91-29bd05ab343c",
        "colab": {
          "base_uri": "https://localhost:8080/",
          "height": 352
        }
      },
      "source": [
        "plt.hist(cui_scores)"
      ],
      "execution_count": 85,
      "outputs": [
        {
          "output_type": "execute_result",
          "data": {
            "text/plain": [
              "(array([243.,  15.,   6.,   9.,  16.,  28.,  41.,  58.,  58.,  20.]),\n",
              " array([0.00052242, 0.00096352, 0.00140462, 0.00184571, 0.00228681,\n",
              "        0.00272791, 0.00316901, 0.00361011, 0.00405121, 0.00449231,\n",
              "        0.00493341]),\n",
              " <a list of 10 Patch objects>)"
            ]
          },
          "metadata": {
            "tags": []
          },
          "execution_count": 85
        },
        {
          "output_type": "display_data",
          "data": {
            "image/png": "[encoded data removed]",
            "text/plain": [
              "<Figure size 432x288 with 1 Axes>"
            ]
          },
          "metadata": {
            "tags": [],
            "needs_background": "light"
          }
        }
      ]
    },
    {
      "cell_type": "markdown",
      "metadata": {
        "id": "DaNOrlXF1LWf",
        "colab_type": "text"
      },
      "source": [
        "## Matrix visualization\n",
        "Input:\n",
        "* matrix_text (matrix_glove_corpus, matrix_cui_corpus)"
      ]
    },
    {
      "cell_type": "code",
      "metadata": {
        "id": "2jtw7YmC1M4l",
        "colab_type": "code",
        "colab": {}
      },
      "source": [
        "import matplotlib.pyplot as plt"
      ],
      "execution_count": 0,
      "outputs": []
    },
    {
      "cell_type": "code",
      "metadata": {
        "id": "zsAUoYb6pi4W",
        "colab_type": "code",
        "colab": {}
      },
      "source": [
        "def visualize_matrix(matrix_text, remove_blank_sentences=True):\n",
        "  \"\"\"\n",
        "  Plots similarity matrix of sentence vectors.\n",
        "  Option to remove blank sentences with 0 similarity.\n",
        "  \"\"\"\n",
        "  if not remove_blank_sentences:\n",
        "    plt.matshow(matrix_text, cmap=plt.cm.Blues)\n",
        "    plt.show()\n",
        "    return\n",
        "\n",
        "  # remove all the zero'd sentences\n",
        "  no_zero_mat = matrix_text[~np.all(matrix_text == 0, axis=1)]\n",
        "  no_zero_mat = no_zero_mat[:,~np.all(no_zero_mat == 0, axis=0)]\n",
        "  plt.matshow(no_zero_mat, cmap=plt.cm.Blues)\n",
        "  plt.show()"
      ],
      "execution_count": 0,
      "outputs": []
    },
    {
      "cell_type": "code",
      "metadata": {
        "id": "opRFZr1-qSXw",
        "colab_type": "code",
        "outputId": "5071e774-fe04-407f-dfbd-8610bff82665",
        "colab": {
          "base_uri": "https://localhost:8080/",
          "height": 275
        }
      },
      "source": [
        "visualize_matrix(matrix_glove_corpus, remove_blank_sentences=False)"
      ],
      "execution_count": 86,
      "outputs": [
        {
          "output_type": "display_data",
          "data": {
            "image/png": "[encoded data removed]",
            "text/plain": [
              "<Figure size 288x288 with 1 Axes>"
            ]
          },
          "metadata": {
            "tags": [],
            "needs_background": "light"
          }
        }
      ]
    },
    {
      "cell_type": "code",
      "metadata": {
        "id": "jw2KKfytqVUW",
        "colab_type": "code",
        "outputId": "70ca1eb6-b7f1-42fc-eaf2-746a68126a4d",
        "colab": {
          "base_uri": "https://localhost:8080/",
          "height": 275
        }
      },
      "source": [
        "visualize_matrix(matrix_cui_corpus, remove_blank_sentences=False)"
      ],
      "execution_count": 87,
      "outputs": [
        {
          "output_type": "display_data",
          "data": {
            "image/png": "[encoded data removed]",
            "text/plain": [
              "<Figure size 288x288 with 1 Axes>"
            ]
          },
          "metadata": {
            "tags": [],
            "needs_background": "light"
          }
        }
      ]
    },
    {
      "cell_type": "markdown",
      "metadata": {
        "id": "y06ZVoL4IXNS",
        "colab_type": "text"
      },
      "source": [
        "# Additional notes\n",
        "* why sentence importance and length are correlated"
      ]
    },
    {
      "cell_type": "code",
      "metadata": {
        "id": "Q6jnWwb9Ib0V",
        "colab_type": "code",
        "colab": {}
      },
      "source": [
        "def plot_length_vs_importance(summary):\n",
        "  y = [(stc[0], len(stc[1])) for stc in summary]\n",
        "  plt.scatter(*zip(*y))\n",
        "  plt.xlabel(\"Importance Score\")\n",
        "  plt.ylabel(\"Sentence Length (chars)\")\n",
        "  plt.show()"
      ],
      "execution_count": 0,
      "outputs": []
    },
    {
      "cell_type": "code",
      "metadata": {
        "id": "de32-kQrzeeu",
        "colab_type": "code",
        "outputId": "72655af2-5067-4229-d8b9-301ef706ce0d",
        "colab": {
          "base_uri": "https://localhost:8080/",
          "height": 279
        }
      },
      "source": [
        "plot_length_vs_importance(glove_summary)"
      ],
      "execution_count": 88,
      "outputs": [
        {
          "output_type": "display_data",
          "data": {
            "image/png": "[encoded data removed]",
            "text/plain": [
              "<Figure size 432x288 with 1 Axes>"
            ]
          },
          "metadata": {
            "tags": [],
            "needs_background": "light"
          }
        }
      ]
    },
    {
      "cell_type": "code",
      "metadata": {
        "id": "herfn_PhKvDb",
        "colab_type": "code",
        "outputId": "4aca6414-bc5a-4da8-83ca-3668a5461fa9",
        "colab": {
          "base_uri": "https://localhost:8080/",
          "height": 279
        }
      },
      "source": [
        "plot_length_vs_importance(cui_summary)"
      ],
      "execution_count": 89,
      "outputs": [
        {
          "output_type": "display_data",
          "data": {
            "image/png": "[encoded data removed]",
            "text/plain": [
              "<Figure size 432x288 with 1 Axes>"
            ]
          },
          "metadata": {
            "tags": [],
            "needs_background": "light"
          }
        }
      ]
    },
    {
      "cell_type": "code",
      "metadata": {
        "id": "R_xKr833KwkR",
        "colab_type": "code",
        "colab": {}
      },
      "source": [
        ""
      ],
      "execution_count": 0,
      "outputs": []
    }
  ]
}